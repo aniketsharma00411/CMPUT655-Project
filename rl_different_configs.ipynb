{
 "cells": [
  {
   "cell_type": "code",
   "execution_count": 1,
   "id": "a4024c17-059a-4af2-a0c7-7c2d82174da1",
   "metadata": {},
   "outputs": [],
   "source": [
    "import ray\n",
    "from ray import tune\n",
    "from ray.rllib.agents.ppo import PPOTrainer\n",
    "from popgym.envs import labyrinth_escape, labyrinth_explore\n",
    "import os\n",
    "import matplotlib.pyplot as plt\n",
    "import numpy as np\n",
    "import pickle"
   ]
  },
  {
   "cell_type": "code",
   "execution_count": 2,
   "id": "651072d1-6f6f-43b0-b03e-70a2fdd43ac8",
   "metadata": {},
   "outputs": [],
   "source": [
    "\n",
    "num_of_cycles = 2\n",
    "total_timesteps_per_cycle = 5000 \n",
    "max_steps_per_episode = 5000 "
   ]
  },
  {
   "cell_type": "code",
   "execution_count": 3,
   "id": "f2db3dd1-0ac8-4870-a02c-fecfb19285c6",
   "metadata": {},
   "outputs": [
    {
     "name": "stderr",
     "output_type": "stream",
     "text": [
      "2023-11-26 12:18:48,635\tINFO worker.py:1553 -- Started a local Ray instance.\n"
     ]
    },
    {
     "data": {
      "text/html": [
       "<div>\n",
       "    <div style=\"margin-left: 50px;display: flex;flex-direction: row;align-items: center\">\n",
       "        <h3 style=\"color: var(--jp-ui-font-color0)\">Ray</h3>\n",
       "        <svg version=\"1.1\" id=\"ray\" width=\"3em\" viewBox=\"0 0 144.5 144.6\" style=\"margin-left: 3em;margin-right: 3em\">\n",
       "            <g id=\"layer-1\">\n",
       "                <path fill=\"#00a2e9\" class=\"st0\" d=\"M97.3,77.2c-3.8-1.1-6.2,0.9-8.3,5.1c-3.5,6.8-9.9,9.9-17.4,9.6S58,88.1,54.8,81.2c-1.4-3-3-4-6.3-4.1\n",
       "                    c-5.6-0.1-9.9,0.1-13.1,6.4c-3.8,7.6-13.6,10.2-21.8,7.6C5.2,88.4-0.4,80.5,0,71.7c0.1-8.4,5.7-15.8,13.8-18.2\n",
       "                    c8.4-2.6,17.5,0.7,22.3,8c1.3,1.9,1.3,5.2,3.6,5.6c3.9,0.6,8,0.2,12,0.2c1.8,0,1.9-1.6,2.4-2.8c3.5-7.8,9.7-11.8,18-11.9\n",
       "                    c8.2-0.1,14.4,3.9,17.8,11.4c1.3,2.8,2.9,3.6,5.7,3.3c1-0.1,2,0.1,3,0c2.8-0.5,6.4,1.7,8.1-2.7s-2.3-5.5-4.1-7.5\n",
       "                    c-5.1-5.7-10.9-10.8-16.1-16.3C84,38,81.9,37.1,78,38.3C66.7,42,56.2,35.7,53,24.1C50.3,14,57.3,2.8,67.7,0.5\n",
       "                    C78.4-2,89,4.7,91.5,15.3c0.1,0.3,0.1,0.5,0.2,0.8c0.7,3.4,0.7,6.9-0.8,9.8c-1.7,3.2-0.8,5,1.5,7.2c6.7,6.5,13.3,13,19.8,19.7\n",
       "                    c1.8,1.8,3,2.1,5.5,1.2c9.1-3.4,17.9-0.6,23.4,7c4.8,6.9,4.6,16.1-0.4,22.9c-5.4,7.2-14.2,9.9-23.1,6.5c-2.3-0.9-3.5-0.6-5.1,1.1\n",
       "                    c-6.7,6.9-13.6,13.7-20.5,20.4c-1.8,1.8-2.5,3.2-1.4,5.9c3.5,8.7,0.3,18.6-7.7,23.6c-7.9,5-18.2,3.8-24.8-2.9\n",
       "                    c-6.4-6.4-7.4-16.2-2.5-24.3c4.9-7.8,14.5-11,23.1-7.8c3,1.1,4.7,0.5,6.9-1.7C91.7,98.4,98,92.3,104.2,86c1.6-1.6,4.1-2.7,2.6-6.2\n",
       "                    c-1.4-3.3-3.8-2.5-6.2-2.6C99.8,77.2,98.9,77.2,97.3,77.2z M72.1,29.7c5.5,0.1,9.9-4.3,10-9.8c0-0.1,0-0.2,0-0.3\n",
       "                    C81.8,14,77,9.8,71.5,10.2c-5,0.3-9,4.2-9.3,9.2c-0.2,5.5,4,10.1,9.5,10.3C71.8,29.7,72,29.7,72.1,29.7z M72.3,62.3\n",
       "                    c-5.4-0.1-9.9,4.2-10.1,9.7c0,0.2,0,0.3,0,0.5c0.2,5.4,4.5,9.7,9.9,10c5.1,0.1,9.9-4.7,10.1-9.8c0.2-5.5-4-10-9.5-10.3\n",
       "                    C72.6,62.3,72.4,62.3,72.3,62.3z M115,72.5c0.1,5.4,4.5,9.7,9.8,9.9c5.6-0.2,10-4.8,10-10.4c-0.2-5.4-4.6-9.7-10-9.7\n",
       "                    c-5.3-0.1-9.8,4.2-9.9,9.5C115,72.1,115,72.3,115,72.5z M19.5,62.3c-5.4,0.1-9.8,4.4-10,9.8c-0.1,5.1,5.2,10.4,10.2,10.3\n",
       "                    c5.6-0.2,10-4.9,9.8-10.5c-0.1-5.4-4.5-9.7-9.9-9.6C19.6,62.3,19.5,62.3,19.5,62.3z M71.8,134.6c5.9,0.2,10.3-3.9,10.4-9.6\n",
       "                    c0.5-5.5-3.6-10.4-9.1-10.8c-5.5-0.5-10.4,3.6-10.8,9.1c0,0.5,0,0.9,0,1.4c-0.2,5.3,4,9.8,9.3,10\n",
       "                    C71.6,134.6,71.7,134.6,71.8,134.6z\"/>\n",
       "            </g>\n",
       "        </svg>\n",
       "        <table>\n",
       "            <tr>\n",
       "                <td style=\"text-align: left\"><b>Python version:</b></td>\n",
       "                <td style=\"text-align: left\"><b>3.9.18</b></td>\n",
       "            </tr>\n",
       "            <tr>\n",
       "                <td style=\"text-align: left\"><b>Ray version:</b></td>\n",
       "                <td style=\"text-align: left\"><b> 2.3.0</b></td>\n",
       "            </tr>\n",
       "            \n",
       "        </table>\n",
       "    </div>\n",
       "</div>\n"
      ],
      "text/plain": [
       "RayContext(dashboard_url='', python_version='3.9.18', ray_version='2.3.0', ray_commit='cf7a56b4b0b648c324722df7c99c168e92ff0b45', address_info={'node_ip_address': '127.0.0.1', 'raylet_ip_address': '127.0.0.1', 'redis_address': None, 'object_store_address': 'tcp://127.0.0.1:53338', 'raylet_socket_name': 'tcp://127.0.0.1:55008', 'webui_url': '', 'session_dir': 'C:\\\\Users\\\\MJ\\\\AppData\\\\Local\\\\Temp\\\\ray\\\\session_2023-11-26_12-18-37_391985_3360', 'metrics_export_port': 57828, 'gcs_address': '127.0.0.1:62466', 'address': '127.0.0.1:62466', 'dashboard_agent_listen_port': 52365, 'node_id': '31332d32474d504cfa4eb1f9dd7e12730d910dd2de96e888f3aae189'})"
      ]
     },
     "execution_count": 3,
     "metadata": {},
     "output_type": "execute_result"
    }
   ],
   "source": [
    "\n",
    "ray.init()"
   ]
  },
  {
   "cell_type": "code",
   "execution_count": 4,
   "id": "3b59a42a-c873-42a1-aae3-9ef7302d5734",
   "metadata": {},
   "outputs": [],
   "source": [
    "envs = [\"LabyrinthEscapeEasy\", \"LabyrinthEscapeMedium\", \"LabyrinthEscapeHard\", \"LabyrinthExploreEasy\", \"LabyrinthExploreMedium\", \"LabyrinthExploreHard\"]\n",
    "# envs = [\"LabyrinthEscapeEasy\"]\n",
    "ray.tune.registry.register_env(\"LabyrinthEscapeEasy\", lambda env_config: labyrinth_escape.LabyrinthEscapeEasy())\n",
    "ray.tune.registry.register_env(\"LabyrinthEscapeMedium\", lambda env_config: labyrinth_escape.LabyrinthEscapeMedium())\n",
    "ray.tune.registry.register_env(\"LabyrinthEscapeHard\", lambda env_config: labyrinth_escape.LabyrinthEscapeHard())\n",
    "ray.tune.registry.register_env(\"LabyrinthExploreEasy\", lambda env_config: labyrinth_explore.LabyrinthExploreEasy())\n",
    "ray.tune.registry.register_env(\"LabyrinthExploreMedium\", lambda env_config: labyrinth_explore.LabyrinthExploreMedium())\n",
    "ray.tune.registry.register_env(\"LabyrinthExploreHard\", lambda env_config: labyrinth_explore.LabyrinthExploreHard())"
   ]
  },
  {
   "cell_type": "code",
   "execution_count": 74,
   "id": "74b9ff37-a29f-4fe1-b7f7-159ea59b8957",
   "metadata": {},
   "outputs": [],
   "source": [
    "#Transformer wide -  params 693957\n",
    "model = {\"use_attention\": True,\n",
    "         \"max_seq_len\":100,\n",
    "         # \"custom_model_config\":{\n",
    "         'attention_num_transformer_units':2,\n",
    "         'attention_dim':64,\n",
    "         'attention_num_heads':20,\n",
    "         # 'memory_tau':50\n",
    "        # }\n",
    "        }\n",
    "\n",
    "# Transforer Length - params 694373\n",
    "# model = {\"use_attention\": True,\n",
    "#          \"max_seq_len\":100,\n",
    "#          # \"custom_model_config\":{\n",
    "#          'attention_num_transformer_units':7,\n",
    "#          'attention_dim':64,\n",
    "#          'attention_num_heads':2,\n",
    "#          # 'memory_tau':50\n",
    "#         # }\n",
    "#         }\n",
    "\n",
    "# LSTM Default - params 685317\n",
    "\n",
    "# model = {\"use_lstm\": True,\n",
    "#         \"max_seq_len\":100,\n",
    "#         'lstm_cell_size': 256 \n",
    "#         }"
   ]
  },
  {
   "cell_type": "code",
   "execution_count": 75,
   "id": "a3b86a37-b185-4939-9d6f-6a4cc0aa5d9c",
   "metadata": {},
   "outputs": [],
   "source": [
    "\n",
    "mean_reward_per_episode = {}\n",
    "timesteps_done = {}\n",
    "for env in envs:\n",
    "    mean_reward_per_episode[env] = []\n",
    "    timesteps_done[env] = []\n",
    "\n",
    "previous_checkpoint_path = None"
   ]
  },
  {
   "cell_type": "code",
   "execution_count": 76,
   "id": "3c99853d-9c0c-4d78-8f50-0dc5a90355ef",
   "metadata": {},
   "outputs": [
    {
     "name": "stderr",
     "output_type": "stream",
     "text": [
      "2023-11-26 12:33:17,264\tWARNING deprecation.py:50 -- DeprecationWarning: `algo = Algorithm(env='LabyrinthEscapeEasy', ...)` has been deprecated. Use `algo = AlgorithmConfig().environment('LabyrinthEscapeEasy').build()` instead. This will raise an error in the future!\n"
     ]
    },
    {
     "name": "stdout",
     "output_type": "stream",
     "text": [
      "Starting Cycle 0 Environment LabyrinthEscapeEasy:\n"
     ]
    },
    {
     "name": "stderr",
     "output_type": "stream",
     "text": [
      "\u001b[2m\u001b[36m(RolloutWorker pid=7860)\u001b[0m 2023-11-26 12:33:30,105\tWARNING env.py:156 -- Your env doesn't have a .spec.max_episode_steps attribute. Your horizon will default to infinity, and your environment will not be reset.\n",
      "\u001b[2m\u001b[36m(RolloutWorker pid=7860)\u001b[0m 2023-11-26 12:33:30,106\tWARNING env.py:166 -- Your env reset() method appears to take 'seed' or 'return_info' arguments. Note that these are not yet supported in RLlib. Seeding will take place using 'env.seed()' and the info dict will not be returned from reset.\n",
      "2023-11-26 12:33:31,609\tINFO trainable.py:172 -- Trainable.setup took 14.321 seconds. If your trainable is slow to initialize, consider setting reuse_actors=True to reduce actor creation overheads.\n",
      "2023-11-26 12:33:31,609\tWARNING util.py:67 -- Install gputil for GPU system monitoring.\n"
     ]
    },
    {
     "name": "stdout",
     "output_type": "stream",
     "text": [
      "Done\n"
     ]
    }
   ],
   "source": [
    "for cycle_count in range(num_of_cycles):\n",
    "    for env in envs:\n",
    "        print(f'Starting Cycle {cycle_count} Environment {env}:')\n",
    "        config = {\n",
    "            \"env\": env,\n",
    "            \"num_gpus\": 0,\n",
    "            \"model\": model,\n",
    "            \"framework\": \"torch\",\n",
    "            \"env_config\": {\n",
    "                \"horizon\": max_steps_per_episode\n",
    "            }\n",
    "        }\n",
    "\n",
    "        trainer = PPOTrainer(env=env, config=config)   \n",
    "        weights = trainer.get_weights()\n",
    "        # with open('ray_torch_model.pkl', 'wb') as f:\n",
    "        #         pickle.dump(weights, f)\n",
    "        # print('Done')\n",
    "        \n",
    "        # break\n",
    "        if previous_checkpoint_path is not None:\n",
    "            trainer.restore(previous_checkpoint_path+'/'+sorted(os.listdir(previous_checkpoint_path))[-1])\n",
    "\n",
    "        previous_checkpoint_path = f\"saved_checkpoints/agent_cycle_{cycle_count}_env_{env}\"\n",
    "        timesteps_total = 0\n",
    "        while timesteps_total < total_timesteps_per_cycle:\n",
    "            weights = trainer.get_weights()\n",
    "            with open('ray_torch_model.pkl', 'wb') as f:\n",
    "                pickle.dump(weights, f)\n",
    "            result = trainer.train()\n",
    "            mean_reward_per_episode[env].append(result['episode_reward_mean'])\n",
    "            print(timesteps_total)\n",
    "            print(result['episode_reward_mean'])\n",
    "            timesteps_done[env].append(result['timesteps_total'])\n",
    "            timesteps_total = result['timesteps_total']\n",
    "            trainer.save(previous_checkpoint_path)"
   ]
  },
  {
   "cell_type": "code",
   "execution_count": 77,
   "id": "ea97b02e-a018-4caa-b3dc-db7566404a30",
   "metadata": {},
   "outputs": [],
   "source": [
    "ray.shutdown()"
   ]
  },
  {
   "cell_type": "code",
   "execution_count": 78,
   "id": "e43243b7-2f20-4f28-810d-c9451259cca8",
   "metadata": {},
   "outputs": [
    {
     "name": "stdout",
     "output_type": "stream",
     "text": [
      "693957\n"
     ]
    }
   ],
   "source": [
    "with open('ray_torch_model.pkl', 'rb') as f:\n",
    "    x = pickle.load(f)\n",
    "sum = 0\n",
    "for i in x:\n",
    "    for j in x[i]:\n",
    "        sum+=x[i][j].size\n",
    "        # print(x[i][j].shape[0])\n",
    "        # for k in x[i][j]:\n",
    "        #     print(k.shape)\n",
    "print(sum)"
   ]
  },
  {
   "cell_type": "code",
   "execution_count": null,
   "id": "9a34f82d-ffe7-4898-ba06-9477fcbbd1e1",
   "metadata": {},
   "outputs": [],
   "source": [
    "685317\n",
    "238437"
   ]
  },
  {
   "cell_type": "code",
   "execution_count": 98,
   "id": "bb8000f8-5bef-4d2b-bdbb-a4d1ee3d3ff5",
   "metadata": {},
   "outputs": [
    {
     "data": {
      "text/plain": [
       "FullyConnectedNetwork_as_AttentionWrapper(\n",
       "  (_hidden_layers): Sequential(\n",
       "    (0): SlimFC(\n",
       "      (_model): Sequential(\n",
       "        (0): Linear(in_features=50, out_features=256, bias=True)\n",
       "        (1): Tanh()\n",
       "      )\n",
       "    )\n",
       "    (1): SlimFC(\n",
       "      (_model): Sequential(\n",
       "        (0): Linear(in_features=256, out_features=256, bias=True)\n",
       "        (1): Tanh()\n",
       "      )\n",
       "    )\n",
       "  )\n",
       "  (_value_branch_separate): Sequential(\n",
       "    (0): SlimFC(\n",
       "      (_model): Sequential(\n",
       "        (0): Linear(in_features=50, out_features=256, bias=True)\n",
       "        (1): Tanh()\n",
       "      )\n",
       "    )\n",
       "    (1): SlimFC(\n",
       "      (_model): Sequential(\n",
       "        (0): Linear(in_features=256, out_features=256, bias=True)\n",
       "        (1): Tanh()\n",
       "      )\n",
       "    )\n",
       "  )\n",
       "  (_value_branch): SlimFC(\n",
       "    (_model): Sequential(\n",
       "      (0): Linear(in_features=64, out_features=1, bias=True)\n",
       "    )\n",
       "  )\n",
       "  (gtrxl): GTrXLNet(\n",
       "    (linear_layer): SlimFC(\n",
       "      (_model): Sequential(\n",
       "        (0): Linear(in_features=256, out_features=64, bias=True)\n",
       "      )\n",
       "    )\n",
       "    (attention_layers): Sequential(\n",
       "      (0): SkipConnection(\n",
       "        (_layer): RelativeMultiHeadAttention(\n",
       "          (_qkv_layer): SlimFC(\n",
       "            (_model): Sequential(\n",
       "              (0): Linear(in_features=64, out_features=192, bias=False)\n",
       "            )\n",
       "          )\n",
       "          (_linear_layer): SlimFC(\n",
       "            (_model): Sequential(\n",
       "              (0): Linear(in_features=64, out_features=64, bias=False)\n",
       "              (1): ReLU()\n",
       "            )\n",
       "          )\n",
       "          (_pos_proj): SlimFC(\n",
       "            (_model): Sequential(\n",
       "              (0): Linear(in_features=64, out_features=64, bias=False)\n",
       "            )\n",
       "          )\n",
       "          (_rel_pos_embedding): RelativePositionEmbedding()\n",
       "          (_input_layernorm): LayerNorm((64,), eps=1e-05, elementwise_affine=True)\n",
       "        )\n",
       "        (_fan_in_layer): GRUGate()\n",
       "      )\n",
       "      (1): SkipConnection(\n",
       "        (_layer): Sequential(\n",
       "          (0): LayerNorm((64,), eps=1e-05, elementwise_affine=True)\n",
       "          (1): SlimFC(\n",
       "            (_model): Sequential(\n",
       "              (0): Linear(in_features=64, out_features=32, bias=False)\n",
       "              (1): ReLU()\n",
       "            )\n",
       "          )\n",
       "          (2): SlimFC(\n",
       "            (_model): Sequential(\n",
       "              (0): Linear(in_features=32, out_features=64, bias=False)\n",
       "              (1): ReLU()\n",
       "            )\n",
       "          )\n",
       "        )\n",
       "        (_fan_in_layer): GRUGate()\n",
       "      )\n",
       "      (2): SkipConnection(\n",
       "        (_layer): RelativeMultiHeadAttention(\n",
       "          (_qkv_layer): SlimFC(\n",
       "            (_model): Sequential(\n",
       "              (0): Linear(in_features=64, out_features=192, bias=False)\n",
       "            )\n",
       "          )\n",
       "          (_linear_layer): SlimFC(\n",
       "            (_model): Sequential(\n",
       "              (0): Linear(in_features=64, out_features=64, bias=False)\n",
       "              (1): ReLU()\n",
       "            )\n",
       "          )\n",
       "          (_pos_proj): SlimFC(\n",
       "            (_model): Sequential(\n",
       "              (0): Linear(in_features=64, out_features=64, bias=False)\n",
       "            )\n",
       "          )\n",
       "          (_rel_pos_embedding): RelativePositionEmbedding()\n",
       "          (_input_layernorm): LayerNorm((64,), eps=1e-05, elementwise_affine=True)\n",
       "        )\n",
       "        (_fan_in_layer): GRUGate()\n",
       "      )\n",
       "      (3): SkipConnection(\n",
       "        (_layer): Sequential(\n",
       "          (0): LayerNorm((64,), eps=1e-05, elementwise_affine=True)\n",
       "          (1): SlimFC(\n",
       "            (_model): Sequential(\n",
       "              (0): Linear(in_features=64, out_features=32, bias=False)\n",
       "              (1): ReLU()\n",
       "            )\n",
       "          )\n",
       "          (2): SlimFC(\n",
       "            (_model): Sequential(\n",
       "              (0): Linear(in_features=32, out_features=64, bias=False)\n",
       "              (1): ReLU()\n",
       "            )\n",
       "          )\n",
       "        )\n",
       "        (_fan_in_layer): GRUGate()\n",
       "      )\n",
       "    )\n",
       "  )\n",
       "  (_logits_branch): SlimFC(\n",
       "    (_model): Sequential(\n",
       "      (0): Linear(in_features=64, out_features=4, bias=True)\n",
       "    )\n",
       "  )\n",
       ")"
      ]
     },
     "execution_count": 98,
     "metadata": {},
     "output_type": "execute_result"
    }
   ],
   "source": [
    "policy = trainer.get_policy()\n",
    "policy.model"
   ]
  },
  {
   "cell_type": "code",
   "execution_count": 99,
   "id": "5e5a3de1-0cc8-4287-be0d-45e6c493bcf8",
   "metadata": {},
   "outputs": [
    {
     "ename": "ModuleNotFoundError",
     "evalue": "No module named 'tensorflow'",
     "output_type": "error",
     "traceback": [
      "\u001b[1;31m---------------------------------------------------------------------------\u001b[0m",
      "\u001b[1;31mModuleNotFoundError\u001b[0m                       Traceback (most recent call last)",
      "Cell \u001b[1;32mIn[99], line 1\u001b[0m\n\u001b[1;32m----> 1\u001b[0m \u001b[38;5;28;01mimport\u001b[39;00m \u001b[38;5;21;01mtensorflow\u001b[39;00m \u001b[38;5;28;01mas\u001b[39;00m \u001b[38;5;21;01mtf\u001b[39;00m\n\u001b[0;32m      2\u001b[0m config \u001b[38;5;241m=\u001b[39m {\n\u001b[0;32m      3\u001b[0m             \u001b[38;5;124m\"\u001b[39m\u001b[38;5;124menv\u001b[39m\u001b[38;5;124m\"\u001b[39m: env,\n\u001b[0;32m      4\u001b[0m             \u001b[38;5;124m\"\u001b[39m\u001b[38;5;124mnum_gpus\u001b[39m\u001b[38;5;124m\"\u001b[39m: \u001b[38;5;241m0\u001b[39m,\n\u001b[1;32m   (...)\u001b[0m\n\u001b[0;32m      9\u001b[0m             }\n\u001b[0;32m     10\u001b[0m         }\n\u001b[0;32m     12\u001b[0m trainer \u001b[38;5;241m=\u001b[39m PPOTrainer(env\u001b[38;5;241m=\u001b[39menv, config\u001b[38;5;241m=\u001b[39mconfig)\n",
      "\u001b[1;31mModuleNotFoundError\u001b[0m: No module named 'tensorflow'"
     ]
    }
   ],
   "source": [
    "import tensorflow as tf\n",
    "config = {\n",
    "            \"env\": env,\n",
    "            \"num_gpus\": 0,\n",
    "            \"model\": model,\n",
    "            \"framework\": \"torch\",\n",
    "            \"env_config\": {\n",
    "                \"horizon\": max_steps_per_episode\n",
    "            }\n",
    "        }\n",
    "\n",
    "trainer = PPOTrainer(env=env, config=config)"
   ]
  },
  {
   "cell_type": "code",
   "execution_count": null,
   "id": "e62989f6-a2f5-4383-95ef-38f62360eee4",
   "metadata": {},
   "outputs": [],
   "source": []
  }
 ],
 "metadata": {
  "kernelspec": {
   "display_name": "Python 3 (ipykernel)",
   "language": "python",
   "name": "python3"
  },
  "language_info": {
   "codemirror_mode": {
    "name": "ipython",
    "version": 3
   },
   "file_extension": ".py",
   "mimetype": "text/x-python",
   "name": "python",
   "nbconvert_exporter": "python",
   "pygments_lexer": "ipython3",
   "version": "3.9.18"
  }
 },
 "nbformat": 4,
 "nbformat_minor": 5
}
