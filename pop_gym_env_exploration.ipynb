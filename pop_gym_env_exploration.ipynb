{
  "nbformat": 4,
  "nbformat_minor": 0,
  "metadata": {
    "colab": {
      "provenance": []
    },
    "kernelspec": {
      "name": "python3",
      "display_name": "Python 3"
    },
    "language_info": {
      "name": "python"
    }
  },
  "cells": [
    {
      "cell_type": "code",
      "source": [
        "!pip install popgym # base environments only, only requires numpy and gymnasium\n",
        "!pip install --use-pep517 \"popgym[navigation]\" # also include navigation environments, which require mazelib\n",
        "!pip install \"popgym[baselines]\" # environments and memory baselines"
      ],
      "metadata": {
        "id": "4zorTT63GnKx"
      },
      "execution_count": null,
      "outputs": []
    },
    {
      "cell_type": "code",
      "execution_count": null,
      "metadata": {
        "id": "gDhHZ5qgGRt5"
      },
      "outputs": [],
      "source": [
        "import popgym\n",
        "from popgym.wrappers import PreviousAction, Antialias, Markovian, Flatten, DiscreteAction\n",
        "from popgym.core.observability import Observability, STATE\n",
        "env_classes = popgym.envs.ALL.keys()\n",
        "set_of_action_space=set()\n",
        "for num,i in enumerate(env_classes):\n",
        "  env=i()\n",
        "  if str(env.action_space)==\"Discrete(4)\":\n",
        "    print(\"Class #\",num,i)\n",
        "    print(\"Number of Actions : \",env.action_space)\n",
        "\n",
        "  set_of_action_space.add(str(env.action_space))\n",
        "\n"
      ]
    },
    {
      "cell_type": "code",
      "source": [
        "nums_of_action_state_types=dict()\n",
        "for num,i in enumerate(set_of_action_space):\n",
        "  print(num)\n",
        "  count=0\n",
        "  for j in env_classes:\n",
        "    env=j()\n",
        "    x=str(env.action_space)\n",
        "    if x==i:\n",
        "      count+=1\n",
        "  print(i,\"count:\",count)\n",
        "  nums_of_action_state_types[i]=count\n",
        "\n",
        "\n",
        "nums_of_action_state_types=(dict(sorted(nums_of_action_state_types.items(), key=lambda x:x[1],reverse=True)))\n"
      ],
      "metadata": {
        "colab": {
          "base_uri": "https://localhost:8080/"
        },
        "id": "1wN94KyGlxlS",
        "outputId": "990767e7-5eec-478a-bd4a-c01cc1ecea4e"
      },
      "execution_count": null,
      "outputs": [
        {
          "output_type": "stream",
          "name": "stdout",
          "text": [
            "0\n",
            "Discrete(52) count: 2\n",
            "1\n",
            "Discrete(16) count: 1\n",
            "2\n",
            "Discrete(30) count: 1\n",
            "3\n",
            "MultiDiscrete([12 12]) count: 1\n",
            "4\n",
            "MultiDiscrete([8 8]) count: 2\n",
            "5\n",
            "Discrete(26) count: 2\n",
            "6\n",
            "MultiDiscrete([4 4]) count: 1\n",
            "7\n",
            "Box(-2.0, 2.0, (1,), float32) count: 6\n",
            "8\n",
            "Discrete(10) count: 1\n",
            "9\n",
            "MultiDiscrete([6 6]) count: 1\n",
            "10\n",
            "Discrete(2) count: 12\n",
            "11\n",
            "Discrete(20) count: 1\n",
            "12\n",
            "Discrete(104) count: 1\n",
            "13\n",
            "Discrete(4) count: 15\n",
            "14\n",
            "MultiDiscrete([10 10]) count: 1\n"
          ]
        }
      ]
    },
    {
      "cell_type": "code",
      "source": [
        "import re\n",
        "\n",
        "for x in nums_of_action_state_types.keys():\n",
        "  tasks = set()\n",
        "  env_classes = popgym.envs.ALL.keys()\n",
        "  set_of_action_space=set()\n",
        "  print(x)\n",
        "  count=0\n",
        "  for i in (env_classes):\n",
        "    env=i()\n",
        "\n",
        "    if str(env.action_space)==x:\n",
        "\n",
        "\n",
        "\n",
        "      if re.split(r\"Easy|Medium|Hard\",(str(i)[20:-2]).split(\".\")[1])[0] not in tasks:\n",
        "        count+=1\n",
        "        print(\"task: #\",count,re.split(r\"Easy|Medium|Hard\",(str(i)[20:-2]).split(\".\")[1])[0])\n",
        "      tasks.add(str(re.split(r\"Easy|Medium|Hard\",(str(i)[20:-2]).split(\".\")[1])[0]))\n",
        "\n"
      ],
      "metadata": {
        "colab": {
          "base_uri": "https://localhost:8080/"
        },
        "id": "nbwmvPjNtK_f",
        "outputId": "767bda95-fb43-4294-f4ac-5227eacd6640"
      },
      "execution_count": null,
      "outputs": [
        {
          "output_type": "stream",
          "name": "stdout",
          "text": [
            "Discrete(4)\n",
            "task: # 1 Autoencode\n",
            "task: # 2 RepeatPrevious\n",
            "task: # 3 RepeatFirst\n",
            "task: # 4 LabyrinthExplore\n",
            "task: # 5 LabyrinthEscape\n",
            "Discrete(2)\n",
            "task: # 1 PositionOnlyCartPole\n",
            "task: # 2 VelocityOnlyCartPole\n",
            "task: # 3 NoisyPositionOnlyCartPole\n",
            "task: # 4 HigherLower\n",
            "Box(-2.0, 2.0, (1,), float32)\n",
            "task: # 1 PositionOnlyPendulum\n",
            "task: # 2 NoisyPositionOnlyPendulum\n",
            "Discrete(52)\n",
            "task: # 1 Concentration\n",
            "MultiDiscrete([8 8])\n",
            "task: # 1 Battleship\n",
            "task: # 2 MineSweeper\n",
            "Discrete(26)\n",
            "task: # 1 CountRecall\n",
            "Discrete(16)\n",
            "task: # 1 CountRecall\n",
            "Discrete(30)\n",
            "task: # 1 MultiarmedBandit\n",
            "MultiDiscrete([12 12])\n",
            "task: # 1 Battleship\n",
            "MultiDiscrete([4 4])\n",
            "task: # 1 MineSweeper\n",
            "Discrete(10)\n",
            "task: # 1 MultiarmedBandit\n",
            "MultiDiscrete([6 6])\n",
            "task: # 1 MineSweeper\n",
            "Discrete(20)\n",
            "task: # 1 MultiarmedBandit\n",
            "Discrete(104)\n",
            "task: # 1 Concentration\n",
            "MultiDiscrete([10 10])\n",
            "task: # 1 Battleship\n"
          ]
        }
      ]
    },
    {
      "cell_type": "code",
      "source": [
        "env = popgym.envs.labyrinth_explore.LabyrinthExploreEasy()\n",
        "print(env.action_space)"
      ],
      "metadata": {
        "colab": {
          "base_uri": "https://localhost:8080/"
        },
        "id": "502MD8nyRyZu",
        "outputId": "ae0046ec-4bf1-47e3-f4e9-8341809b38cb"
      },
      "execution_count": null,
      "outputs": [
        {
          "output_type": "stream",
          "name": "stdout",
          "text": [
            "Discrete(4)\n"
          ]
        }
      ]
    },
    {
      "cell_type": "code",
      "source": [
        "env = popgym.envs.position_only_cartpole.PositionOnlyCartPoleEasy()\n",
        "wrapped_env = PreviousAction(env)\n",
        "print(wrapped_env.action_space)\n",
        "wrapped_env = Antialias(wrapped_env)\n",
        "DiscreteAction(Flatten(wrapped_env))\n",
        "print(env)"
      ],
      "metadata": {
        "colab": {
          "base_uri": "https://localhost:8080/"
        },
        "id": "BFYy9QnEGhxq",
        "outputId": "fe57ce72-7ad6-4b48-9573-e6ee98d5f1d5"
      },
      "execution_count": null,
      "outputs": [
        {
          "output_type": "stream",
          "name": "stdout",
          "text": [
            "Discrete(2)\n",
            "<PositionOnlyCartPoleEasy instance>\n"
          ]
        }
      ]
    },
    {
      "cell_type": "code",
      "source": [
        "wrapped_env = Markovian(wrapped_env, Observability.FULL_IN_INFO_DICT)\n",
        "wrapped_env.reset()\n",
        "obs, reward, terminated, truncated, info = wrapped_env.step(wrapped_env.action_space.sample())\n",
        "print(obs)\n",
        "print(info[STATE])\n",
        "print(wrapped_env.action_space)\n",
        "wrapped_env = Flatten(wrapped_env)\n",
        "print(wrapped_env.action_space.n)"
      ],
      "metadata": {
        "id": "Q7yfXao8KbKW",
        "colab": {
          "base_uri": "https://localhost:8080/"
        },
        "outputId": "bff71234-cf9d-4363-a363-5cc49d90cdcf"
      },
      "execution_count": null,
      "outputs": [
        {
          "output_type": "stream",
          "name": "stdout",
          "text": [
            "(array([ 0.03581224, -0.03101058], dtype=float32), 1, 0)\n",
            "[ 0.03581224  0.19563742 -0.03101058 -0.2554924 ]\n",
            "Discrete(2)\n",
            "2\n"
          ]
        }
      ]
    },
    {
      "cell_type": "code",
      "source": [
        "# import popgym\n",
        "# import ray\n",
        "# from torch import nn\n",
        "# from popgym.baselines.ray_models.ray_gru import GRU\n",
        "# # See what GRU-specific hyperparameters we can set\n",
        "# print(GRU.MODEL_CONFIG)\n",
        "# # Show other settable model hyperparameters like\n",
        "# # what the actor/critic branches look like,\n",
        "# # what hidden size to use,\n",
        "# # whether to add a positional embedding, etc.\n",
        "# print(GRU.BASE_CONFIG)\n",
        "# # How long the temporal window for backprop is\n",
        "# # This doesn't need to be longer than 1024\n",
        "# bptt_size = 1024\n",
        "# config = {\n",
        "# \"model\": {\n",
        "#     \"max_seq_len\": bptt_size,\n",
        "#     \"custom_model\": GRU,\n",
        "#     \"custom_model_config\": {\n",
        "#     # Override the hidden_size from BASE_CONFIG\n",
        "#     # The input and output sizes of the MLP feeding the memory model\n",
        "#     \"preprocessor_input_size\": 128,\n",
        "#     \"preprocessor_output_size\": 64,\n",
        "#     \"preprocessor\": nn.Sequential(nn.Linear(128, 64), nn.ReLU()),\n",
        "#     # this is the size of the recurrent state in most cases\n",
        "#     \"hidden_size\": 128,\n",
        "#     # We should also change other parts of the architecture to use\n",
        "#     # this new hidden size\n",
        "#     # For the GRU, the output is of size hidden_size\n",
        "#     \"postprocessor\": nn.Sequential(nn.Linear(128, 64), nn.ReLU()),\n",
        "#     \"postprocessor_output_size\": 64,\n",
        "#     # Actor and critic networks\n",
        "#     \"actor\": nn.Linear(64, 64),\n",
        "#     \"critic\": nn.Linear(64, 64),\n",
        "#     # We can also override GRU-specific hyperparams\n",
        "#     \"num_recurrent_layers\": 1,\n",
        "#     \"resources_per_trial\":2\n",
        "#     },\n",
        "# },\n",
        "# # Some other rllib defaults you might want to change\n",
        "# # See https://docs.ray.io/en/latest/rllib/rllib-training.html#common-parameters\n",
        "# # for a full list of rllib settings\n",
        "# #\n",
        "# # These should be a factor of bptt_size\n",
        "# \"sgd_minibatch_size\": bptt_size * 4,\n",
        "# # Should be a factor of sgd_minibatch_size\n",
        "# \"train_batch_size\": bptt_size * 8,\n",
        "# # The ENVIRONTMENT USED we are training on\n",
        "# \"env\": \"popgym-ConcentrationEasy-v0\",\n",
        "# # You probably don't want to change these values\n",
        "# \"rollout_fragment_length\": bptt_size,\n",
        "# \"framework\": \"torch\",\n",
        "# \"horizon\": bptt_size,\n",
        "# \"batch_mode\": \"complete_episodes\",\n",
        "# }\n",
        "# # Stop after 50k environment steps\n",
        "# ray.tune.run(\"PPO\", config=config, stop={\"timesteps_total\": 50_000})"
      ],
      "metadata": {
        "id": "QNhtgBVQIGi9"
      },
      "execution_count": null,
      "outputs": []
    },
    {
      "cell_type": "markdown",
      "source": [
        "# Finding the State Space of all environments with Discrete(4) action space"
      ],
      "metadata": {
        "id": "ZWe9PaiRvjqu"
      }
    },
    {
      "cell_type": "code",
      "source": [
        "envs=[popgym.envs.autoencode.Autoencode,\n",
        "      popgym.envs.labyrinth_escape.LabyrinthEscape,\n",
        "      popgym.envs.labyrinth_explore.LabyrinthExplore,\n",
        "      popgym.envs.repeat_previous.RepeatPrevious,\n",
        "      popgym.envs.repeat_first.RepeatFirst]\n",
        "for i in envs:\n",
        "  env=i()\n",
        "  print(\"Name of the ENV :\",str(env)[1:-1])\n",
        "  print(\"Obs space : \",env.observation_space)\n",
        "  #print(\"Obeservabiity level of the agent: \",env.observability_level) #all are partial obs\n",
        "  print(\"Full state space :\",env.state_space)\n",
        "\n",
        "  print(\"State space shape :\" ,env.state_space.shape)\n",
        "  #print(\"Reward Range: \",env.reward_range) #all ranges from -inf to inf\n",
        "\n",
        "  print(\"\\n \\n\")\n",
        "\n"
      ],
      "metadata": {
        "id": "oqRl-tcFvjF9",
        "colab": {
          "base_uri": "https://localhost:8080/"
        },
        "outputId": "4f213bc1-8e03-4056-9506-ee4beeb36879"
      },
      "execution_count": null,
      "outputs": [
        {
          "output_type": "stream",
          "name": "stdout",
          "text": [
            "Name of the ENV : Autoencode instance\n",
            "Obs space :  Tuple(Discrete(2), Discrete(4))\n",
            "Full state space : Tuple(MultiDiscrete([4 4 4 4 4 4 4 4 4 4 4 4 4 4 4 4 4 4 4 4 4 4 4 4 4 4 4 4 4 4 4 4 4 4 4 4 4\n",
            " 4 4 4 4 4 4 4 4 4 4 4 4 4 4 4]), Discrete(2), Box(0.0, 1.0, (1,), float32))\n",
            "State space shape : None\n",
            "\n",
            " \n",
            "\n",
            "Name of the ENV : LabyrinthEscape instance\n",
            "Obs space :  MultiDiscrete([5 5 5 5 5 5 5 5 5 5])\n",
            "Full state space : MultiDiscrete([[5 5 5 5 5 5 5 5 5 5 5]\n",
            " [5 5 5 5 5 5 5 5 5 5 5]\n",
            " [5 5 5 5 5 5 5 5 5 5 5]\n",
            " [5 5 5 5 5 5 5 5 5 5 5]\n",
            " [5 5 5 5 5 5 5 5 5 5 5]\n",
            " [5 5 5 5 5 5 5 5 5 5 5]\n",
            " [5 5 5 5 5 5 5 5 5 5 5]\n",
            " [5 5 5 5 5 5 5 5 5 5 5]\n",
            " [5 5 5 5 5 5 5 5 5 5 5]\n",
            " [5 5 5 5 5 5 5 5 5 5 5]\n",
            " [5 5 5 5 5 5 5 5 5 5 5]])\n",
            "State space shape : (11, 11)\n",
            "\n",
            " \n",
            "\n",
            "Name of the ENV : LabyrinthExplore instance\n",
            "Obs space :  MultiDiscrete([5 5 5 5 5 5 5 5 5 5])\n",
            "Full state space : MultiDiscrete([[5 5 5 5 5 5 5 5 5 5 5]\n",
            " [5 5 5 5 5 5 5 5 5 5 5]\n",
            " [5 5 5 5 5 5 5 5 5 5 5]\n",
            " [5 5 5 5 5 5 5 5 5 5 5]\n",
            " [5 5 5 5 5 5 5 5 5 5 5]\n",
            " [5 5 5 5 5 5 5 5 5 5 5]\n",
            " [5 5 5 5 5 5 5 5 5 5 5]\n",
            " [5 5 5 5 5 5 5 5 5 5 5]\n",
            " [5 5 5 5 5 5 5 5 5 5 5]\n",
            " [5 5 5 5 5 5 5 5 5 5 5]\n",
            " [5 5 5 5 5 5 5 5 5 5 5]])\n",
            "State space shape : (11, 11)\n",
            "\n",
            " \n",
            "\n",
            "Name of the ENV : RepeatPrevious instance\n",
            "Obs space :  Discrete(4)\n",
            "Full state space : Tuple(MultiDiscrete([4 4 4 4]), Box(0.0, 1.0, (4,), float32))\n",
            "State space shape : None\n",
            "\n",
            " \n",
            "\n",
            "Name of the ENV : RepeatFirst instance\n",
            "Obs space :  Discrete(4)\n",
            "Full state space : Tuple(Discrete(4), Box(0.0, 1.0, (4,), float32))\n",
            "State space shape : None\n",
            "\n",
            " \n",
            "\n"
          ]
        }
      ]
    },
    {
      "cell_type": "code",
      "source": [
        "envs=env_classes\n",
        "for i in envs:\n",
        "  env=i()\n",
        "  print(\"Name of the ENV :\",str(env)[1:-1])\n",
        "  print(\"Action Space : \",env.action_space)\n",
        "  print(\"Obs space : \",env.observation_space)\n",
        "  print(\"Full state space :\",env.state_space,\"\\n \\n\")"
      ],
      "metadata": {
        "id": "OOWNADunv9PA",
        "colab": {
          "base_uri": "https://localhost:8080/"
        },
        "outputId": "d435df45-deb2-465e-fd0d-5e1b00a2d2e6"
      },
      "execution_count": null,
      "outputs": [
        {
          "output_type": "stream",
          "name": "stdout",
          "text": [
            "Name of the ENV : AutoencodeEasy instance\n",
            "Action Space :  Discrete(4)\n",
            "Obs space :  Tuple(Discrete(2), Discrete(4))\n",
            "Full state space : Tuple(MultiDiscrete([4 4 4 4 4 4 4 4 4 4 4 4 4 4 4 4 4 4 4 4 4 4 4 4 4 4 4 4 4 4 4 4 4 4 4 4 4\n",
            " 4 4 4 4 4 4 4 4 4 4 4 4 4 4 4]), Discrete(2), Box(0.0, 1.0, (1,), float32)) \n",
            " \n",
            "\n",
            "Name of the ENV : RepeatPreviousEasy instance\n",
            "Action Space :  Discrete(4)\n",
            "Obs space :  Discrete(4)\n",
            "Full state space : Tuple(MultiDiscrete([4 4 4 4]), Box(0.0, 1.0, (4,), float32)) \n",
            " \n",
            "\n",
            "Name of the ENV : RepeatFirstEasy instance\n",
            "Action Space :  Discrete(4)\n",
            "Obs space :  Discrete(4)\n",
            "Full state space : Tuple(Discrete(4), Box(0.0, 1.0, (4,), float32)) \n",
            " \n",
            "\n",
            "Name of the ENV : CountRecallEasy instance\n",
            "Action Space :  Discrete(26)\n",
            "Obs space :  MultiDiscrete([2 2])\n",
            "Full state space : Tuple(Box(0.0, 1.0, (2,), float32), Box(0.0, 1.0, (2,), float32), MultiDiscrete([2 2])) \n",
            " \n",
            "\n",
            "Name of the ENV : PositionOnlyCartPoleEasy instance\n",
            "Action Space :  Discrete(2)\n",
            "Obs space :  Box([-4.8        -0.41887903], [4.8        0.41887903], (2,), float32)\n",
            "Full state space : Box([-4.8000002e+00 -3.4028235e+38 -4.1887903e-01 -3.4028235e+38], [4.8000002e+00 3.4028235e+38 4.1887903e-01 3.4028235e+38], (4,), float32) \n",
            " \n",
            "\n",
            "Name of the ENV : PositionOnlyPendulumEasy instance\n",
            "Action Space :  Box(-2.0, 2.0, (1,), float32)\n",
            "Obs space :  Box(-1.0, 1.0, (2,), float32)\n",
            "Full state space : Box([-1. -1. -8.], [1. 1. 8.], (3,), float32) \n",
            " \n",
            "\n",
            "Name of the ENV : VelocityOnlyCartPoleEasy instance\n",
            "Action Space :  Discrete(2)\n",
            "Obs space :  Box(-inf, inf, (2,), float32)\n",
            "Full state space : Box([-4.8000002e+00 -3.4028235e+38 -4.1887903e-01 -3.4028235e+38], [4.8000002e+00 3.4028235e+38 4.1887903e-01 3.4028235e+38], (4,), float32) \n",
            " \n",
            "\n",
            "Name of the ENV : NoisyPositionOnlyCartPoleEasy instance\n",
            "Action Space :  Discrete(2)\n",
            "Obs space :  Box([-4.8        -0.41887903], [4.8        0.41887903], (2,), float32)\n",
            "Full state space : Box([-4.8000002e+00 -3.4028235e+38 -4.1887903e-01 -3.4028235e+38], [4.8000002e+00 3.4028235e+38 4.1887903e-01 3.4028235e+38], (4,), float32) \n",
            " \n",
            "\n",
            "Name of the ENV : NoisyPositionOnlyPendulumEasy instance\n",
            "Action Space :  Box(-2.0, 2.0, (1,), float32)\n",
            "Obs space :  Box(-1.0, 1.0, (2,), float32)\n",
            "Full state space : Box([-1. -1. -8.], [1. 1. 8.], (3,), float32) \n",
            " \n",
            "\n",
            "Name of the ENV : MultiarmedBanditEasy instance\n",
            "Action Space :  Discrete(10)\n",
            "Obs space :  Discrete(2)\n",
            "Full state space : Box(0.0, 1.0, (10,), float32) \n",
            " \n",
            "\n",
            "Name of the ENV : HigherLowerEasy instance\n",
            "Action Space :  Discrete(2)\n",
            "Obs space :  Discrete(13)\n",
            "Full state space : Box(0.0, 1.0, (13,), float32) \n",
            " \n",
            "\n",
            "Name of the ENV : BattleshipEasy instance\n",
            "Action Space :  MultiDiscrete([8 8])\n",
            "Obs space :  Discrete(2)\n",
            "Full state space : Tuple(MultiDiscrete([[2 2 2 2 2 2 2 2]\n",
            " [2 2 2 2 2 2 2 2]\n",
            " [2 2 2 2 2 2 2 2]\n",
            " [2 2 2 2 2 2 2 2]\n",
            " [2 2 2 2 2 2 2 2]\n",
            " [2 2 2 2 2 2 2 2]\n",
            " [2 2 2 2 2 2 2 2]\n",
            " [2 2 2 2 2 2 2 2]]), MultiDiscrete([[2 2 2 2 2 2 2 2]\n",
            " [2 2 2 2 2 2 2 2]\n",
            " [2 2 2 2 2 2 2 2]\n",
            " [2 2 2 2 2 2 2 2]\n",
            " [2 2 2 2 2 2 2 2]\n",
            " [2 2 2 2 2 2 2 2]\n",
            " [2 2 2 2 2 2 2 2]\n",
            " [2 2 2 2 2 2 2 2]]), Discrete(2)) \n",
            " \n",
            "\n",
            "Name of the ENV : ConcentrationEasy instance\n",
            "Action Space :  Discrete(52)\n",
            "Obs space :  MultiDiscrete([3 3 3 3 3 3 3 3 3 3 3 3 3 3 3 3 3 3 3 3 3 3 3 3 3 3 3 3 3 3 3 3 3 3 3 3 3\n",
            " 3 3 3 3 3 3 3 3 3 3 3 3 3 3 3])\n",
            "Full state space : Tuple(MultiDiscrete([2 2 2 2 2 2 2 2 2 2 2 2 2 2 2 2 2 2 2 2 2 2 2 2 2 2 2 2 2 2 2 2 2 2 2 2 2\n",
            " 2 2 2 2 2 2 2 2 2 2 2 2 2 2 2]), MultiBinary(52), Discrete(52), Discrete(52)) \n",
            " \n",
            "\n",
            "Name of the ENV : MineSweeperEasy instance\n",
            "Action Space :  MultiDiscrete([4 4])\n",
            "Obs space :  Discrete(3)\n",
            "Full state space : MultiDiscrete([3 3 3 3 3 3 3 3 3 3 3 3 3 3 3 3]) \n",
            " \n",
            "\n",
            "Name of the ENV : LabyrinthExploreEasy instance\n",
            "Action Space :  Discrete(4)\n",
            "Obs space :  MultiDiscrete([5 5 5 5 5 5 5 5 5 5])\n",
            "Full state space : MultiDiscrete([[5 5 5 5 5 5 5 5 5 5 5]\n",
            " [5 5 5 5 5 5 5 5 5 5 5]\n",
            " [5 5 5 5 5 5 5 5 5 5 5]\n",
            " [5 5 5 5 5 5 5 5 5 5 5]\n",
            " [5 5 5 5 5 5 5 5 5 5 5]\n",
            " [5 5 5 5 5 5 5 5 5 5 5]\n",
            " [5 5 5 5 5 5 5 5 5 5 5]\n",
            " [5 5 5 5 5 5 5 5 5 5 5]\n",
            " [5 5 5 5 5 5 5 5 5 5 5]\n",
            " [5 5 5 5 5 5 5 5 5 5 5]\n",
            " [5 5 5 5 5 5 5 5 5 5 5]]) \n",
            " \n",
            "\n",
            "Name of the ENV : LabyrinthEscapeEasy instance\n",
            "Action Space :  Discrete(4)\n",
            "Obs space :  MultiDiscrete([5 5 5 5 5 5 5 5 5 5])\n",
            "Full state space : MultiDiscrete([[5 5 5 5 5 5 5 5 5 5 5]\n",
            " [5 5 5 5 5 5 5 5 5 5 5]\n",
            " [5 5 5 5 5 5 5 5 5 5 5]\n",
            " [5 5 5 5 5 5 5 5 5 5 5]\n",
            " [5 5 5 5 5 5 5 5 5 5 5]\n",
            " [5 5 5 5 5 5 5 5 5 5 5]\n",
            " [5 5 5 5 5 5 5 5 5 5 5]\n",
            " [5 5 5 5 5 5 5 5 5 5 5]\n",
            " [5 5 5 5 5 5 5 5 5 5 5]\n",
            " [5 5 5 5 5 5 5 5 5 5 5]\n",
            " [5 5 5 5 5 5 5 5 5 5 5]]) \n",
            " \n",
            "\n",
            "Name of the ENV : AutoencodeMedium instance\n",
            "Action Space :  Discrete(4)\n",
            "Obs space :  Tuple(Discrete(2), Discrete(4))\n",
            "Full state space : Tuple(MultiDiscrete([4 4 4 4 4 4 4 4 4 4 4 4 4 4 4 4 4 4 4 4 4 4 4 4 4 4 4 4 4 4 4 4 4 4 4 4 4\n",
            " 4 4 4 4 4 4 4 4 4 4 4 4 4 4 4 4 4 4 4 4 4 4 4 4 4 4 4 4 4 4 4 4 4 4 4 4 4\n",
            " 4 4 4 4 4 4 4 4 4 4 4 4 4 4 4 4 4 4 4 4 4 4 4 4 4 4 4 4 4 4]), Discrete(2), Box(0.0, 1.0, (1,), float32)) \n",
            " \n",
            "\n",
            "Name of the ENV : RepeatPreviousMedium instance\n",
            "Action Space :  Discrete(4)\n",
            "Obs space :  Discrete(4)\n",
            "Full state space : Tuple(MultiDiscrete([4 4 4 4 4 4 4 4 4 4 4 4 4 4 4 4 4 4 4 4 4 4 4 4 4 4 4 4 4 4 4 4]), Box(0.0, 1.0, (4,), float32)) \n",
            " \n",
            "\n",
            "Name of the ENV : RepeatFirstMedium instance\n",
            "Action Space :  Discrete(4)\n",
            "Obs space :  Discrete(4)\n",
            "Full state space : Tuple(Discrete(4), Box(0.0, 1.0, (4,), float32)) \n",
            " \n",
            "\n",
            "Name of the ENV : CountRecallMedium instance\n",
            "Action Space :  Discrete(26)\n",
            "Obs space :  MultiDiscrete([4 4])\n",
            "Full state space : Tuple(Box(0.0, 1.0, (4,), float32), Box(0.0, 1.0, (4,), float32), MultiDiscrete([4 4])) \n",
            " \n",
            "\n",
            "Name of the ENV : PositionOnlyCartPoleMedium instance\n",
            "Action Space :  Discrete(2)\n",
            "Obs space :  Box([-4.8        -0.41887903], [4.8        0.41887903], (2,), float32)\n",
            "Full state space : Box([-4.8000002e+00 -3.4028235e+38 -4.1887903e-01 -3.4028235e+38], [4.8000002e+00 3.4028235e+38 4.1887903e-01 3.4028235e+38], (4,), float32) \n",
            " \n",
            "\n",
            "Name of the ENV : PositionOnlyPendulumMedium instance\n",
            "Action Space :  Box(-2.0, 2.0, (1,), float32)\n",
            "Obs space :  Box(-1.0, 1.0, (2,), float32)\n",
            "Full state space : Box([-1. -1. -8.], [1. 1. 8.], (3,), float32) \n",
            " \n",
            "\n",
            "Name of the ENV : VelocityOnlyCartPoleMedium instance\n",
            "Action Space :  Discrete(2)\n",
            "Obs space :  Box(-inf, inf, (2,), float32)\n",
            "Full state space : Box([-4.8000002e+00 -3.4028235e+38 -4.1887903e-01 -3.4028235e+38], [4.8000002e+00 3.4028235e+38 4.1887903e-01 3.4028235e+38], (4,), float32) \n",
            " \n",
            "\n",
            "Name of the ENV : NoisyPositionOnlyCartPoleMedium instance\n",
            "Action Space :  Discrete(2)\n",
            "Obs space :  Box([-4.8        -0.41887903], [4.8        0.41887903], (2,), float32)\n",
            "Full state space : Box([-4.8000002e+00 -3.4028235e+38 -4.1887903e-01 -3.4028235e+38], [4.8000002e+00 3.4028235e+38 4.1887903e-01 3.4028235e+38], (4,), float32) \n",
            " \n",
            "\n",
            "Name of the ENV : NoisyPositionOnlyPendulumMedium instance\n",
            "Action Space :  Box(-2.0, 2.0, (1,), float32)\n",
            "Obs space :  Box(-1.0, 1.0, (2,), float32)\n",
            "Full state space : Box([-1. -1. -8.], [1. 1. 8.], (3,), float32) \n",
            " \n",
            "\n",
            "Name of the ENV : MultiarmedBanditMedium instance\n",
            "Action Space :  Discrete(20)\n",
            "Obs space :  Discrete(2)\n",
            "Full state space : Box(0.0, 1.0, (20,), float32) \n",
            " \n",
            "\n",
            "Name of the ENV : HigherLowerMedium instance\n",
            "Action Space :  Discrete(2)\n",
            "Obs space :  Discrete(13)\n",
            "Full state space : Box(0.0, 1.0, (13,), float32) \n",
            " \n",
            "\n",
            "Name of the ENV : BattleshipMedium instance\n",
            "Action Space :  MultiDiscrete([10 10])\n",
            "Obs space :  Discrete(2)\n",
            "Full state space : Tuple(MultiDiscrete([[2 2 2 2 2 2 2 2 2 2]\n",
            " [2 2 2 2 2 2 2 2 2 2]\n",
            " [2 2 2 2 2 2 2 2 2 2]\n",
            " [2 2 2 2 2 2 2 2 2 2]\n",
            " [2 2 2 2 2 2 2 2 2 2]\n",
            " [2 2 2 2 2 2 2 2 2 2]\n",
            " [2 2 2 2 2 2 2 2 2 2]\n",
            " [2 2 2 2 2 2 2 2 2 2]\n",
            " [2 2 2 2 2 2 2 2 2 2]\n",
            " [2 2 2 2 2 2 2 2 2 2]]), MultiDiscrete([[2 2 2 2 2 2 2 2 2 2]\n",
            " [2 2 2 2 2 2 2 2 2 2]\n",
            " [2 2 2 2 2 2 2 2 2 2]\n",
            " [2 2 2 2 2 2 2 2 2 2]\n",
            " [2 2 2 2 2 2 2 2 2 2]\n",
            " [2 2 2 2 2 2 2 2 2 2]\n",
            " [2 2 2 2 2 2 2 2 2 2]\n",
            " [2 2 2 2 2 2 2 2 2 2]\n",
            " [2 2 2 2 2 2 2 2 2 2]\n",
            " [2 2 2 2 2 2 2 2 2 2]]), Discrete(2)) \n",
            " \n",
            "\n",
            "Name of the ENV : ConcentrationMedium instance\n",
            "Action Space :  Discrete(104)\n",
            "Obs space :  MultiDiscrete([3 3 3 3 3 3 3 3 3 3 3 3 3 3 3 3 3 3 3 3 3 3 3 3 3 3 3 3 3 3 3 3 3 3 3 3 3\n",
            " 3 3 3 3 3 3 3 3 3 3 3 3 3 3 3 3 3 3 3 3 3 3 3 3 3 3 3 3 3 3 3 3 3 3 3 3 3\n",
            " 3 3 3 3 3 3 3 3 3 3 3 3 3 3 3 3 3 3 3 3 3 3 3 3 3 3 3 3 3 3])\n",
            "Full state space : Tuple(MultiDiscrete([2 2 2 2 2 2 2 2 2 2 2 2 2 2 2 2 2 2 2 2 2 2 2 2 2 2 2 2 2 2 2 2 2 2 2 2 2\n",
            " 2 2 2 2 2 2 2 2 2 2 2 2 2 2 2 2 2 2 2 2 2 2 2 2 2 2 2 2 2 2 2 2 2 2 2 2 2\n",
            " 2 2 2 2 2 2 2 2 2 2 2 2 2 2 2 2 2 2 2 2 2 2 2 2 2 2 2 2 2 2]), MultiBinary(104), Discrete(104), Discrete(104)) \n",
            " \n",
            "\n",
            "Name of the ENV : MineSweeperMedium instance\n",
            "Action Space :  MultiDiscrete([6 6])\n",
            "Obs space :  Discrete(7)\n",
            "Full state space : MultiDiscrete([3 3 3 3 3 3 3 3 3 3 3 3 3 3 3 3 3 3 3 3 3 3 3 3 3 3 3 3 3 3 3 3 3 3 3 3]) \n",
            " \n",
            "\n",
            "Name of the ENV : LabyrinthExploreMedium instance\n",
            "Action Space :  Discrete(4)\n",
            "Obs space :  MultiDiscrete([5 5 5 5 5 5 5 5 5 5])\n",
            "Full state space : MultiDiscrete([[5 5 5 5 5 5 5 5 5 5 5 5 5 5 5]\n",
            " [5 5 5 5 5 5 5 5 5 5 5 5 5 5 5]\n",
            " [5 5 5 5 5 5 5 5 5 5 5 5 5 5 5]\n",
            " [5 5 5 5 5 5 5 5 5 5 5 5 5 5 5]\n",
            " [5 5 5 5 5 5 5 5 5 5 5 5 5 5 5]\n",
            " [5 5 5 5 5 5 5 5 5 5 5 5 5 5 5]\n",
            " [5 5 5 5 5 5 5 5 5 5 5 5 5 5 5]\n",
            " [5 5 5 5 5 5 5 5 5 5 5 5 5 5 5]\n",
            " [5 5 5 5 5 5 5 5 5 5 5 5 5 5 5]\n",
            " [5 5 5 5 5 5 5 5 5 5 5 5 5 5 5]\n",
            " [5 5 5 5 5 5 5 5 5 5 5 5 5 5 5]\n",
            " [5 5 5 5 5 5 5 5 5 5 5 5 5 5 5]\n",
            " [5 5 5 5 5 5 5 5 5 5 5 5 5 5 5]\n",
            " [5 5 5 5 5 5 5 5 5 5 5 5 5 5 5]\n",
            " [5 5 5 5 5 5 5 5 5 5 5 5 5 5 5]]) \n",
            " \n",
            "\n",
            "Name of the ENV : LabyrinthEscapeMedium instance\n",
            "Action Space :  Discrete(4)\n",
            "Obs space :  MultiDiscrete([5 5 5 5 5 5 5 5 5 5])\n",
            "Full state space : MultiDiscrete([[5 5 5 5 5 5 5 5 5 5 5 5 5 5 5]\n",
            " [5 5 5 5 5 5 5 5 5 5 5 5 5 5 5]\n",
            " [5 5 5 5 5 5 5 5 5 5 5 5 5 5 5]\n",
            " [5 5 5 5 5 5 5 5 5 5 5 5 5 5 5]\n",
            " [5 5 5 5 5 5 5 5 5 5 5 5 5 5 5]\n",
            " [5 5 5 5 5 5 5 5 5 5 5 5 5 5 5]\n",
            " [5 5 5 5 5 5 5 5 5 5 5 5 5 5 5]\n",
            " [5 5 5 5 5 5 5 5 5 5 5 5 5 5 5]\n",
            " [5 5 5 5 5 5 5 5 5 5 5 5 5 5 5]\n",
            " [5 5 5 5 5 5 5 5 5 5 5 5 5 5 5]\n",
            " [5 5 5 5 5 5 5 5 5 5 5 5 5 5 5]\n",
            " [5 5 5 5 5 5 5 5 5 5 5 5 5 5 5]\n",
            " [5 5 5 5 5 5 5 5 5 5 5 5 5 5 5]\n",
            " [5 5 5 5 5 5 5 5 5 5 5 5 5 5 5]\n",
            " [5 5 5 5 5 5 5 5 5 5 5 5 5 5 5]]) \n",
            " \n",
            "\n",
            "Name of the ENV : AutoencodeHard instance\n",
            "Action Space :  Discrete(4)\n",
            "Obs space :  Tuple(Discrete(2), Discrete(4))\n",
            "Full state space : Tuple(MultiDiscrete([4 4 4 4 4 4 4 4 4 4 4 4 4 4 4 4 4 4 4 4 4 4 4 4 4 4 4 4 4 4 4 4 4 4 4 4 4\n",
            " 4 4 4 4 4 4 4 4 4 4 4 4 4 4 4 4 4 4 4 4 4 4 4 4 4 4 4 4 4 4 4 4 4 4 4 4 4\n",
            " 4 4 4 4 4 4 4 4 4 4 4 4 4 4 4 4 4 4 4 4 4 4 4 4 4 4 4 4 4 4 4 4 4 4 4 4 4\n",
            " 4 4 4 4 4 4 4 4 4 4 4 4 4 4 4 4 4 4 4 4 4 4 4 4 4 4 4 4 4 4 4 4 4 4 4 4 4\n",
            " 4 4 4 4 4 4 4 4]), Discrete(2), Box(0.0, 1.0, (1,), float32)) \n",
            " \n",
            "\n",
            "Name of the ENV : RepeatPreviousHard instance\n",
            "Action Space :  Discrete(4)\n",
            "Obs space :  Discrete(4)\n",
            "Full state space : Tuple(MultiDiscrete([4 4 4 4 4 4 4 4 4 4 4 4 4 4 4 4 4 4 4 4 4 4 4 4 4 4 4 4 4 4 4 4 4 4 4 4 4\n",
            " 4 4 4 4 4 4 4 4 4 4 4 4 4 4 4 4 4 4 4 4 4 4 4 4 4 4 4]), Box(0.0, 1.0, (4,), float32)) \n",
            " \n",
            "\n",
            "Name of the ENV : RepeatFirstHard instance\n",
            "Action Space :  Discrete(4)\n",
            "Obs space :  Discrete(4)\n",
            "Full state space : Tuple(Discrete(4), Box(0.0, 1.0, (4,), float32)) \n",
            " \n",
            "\n",
            "Name of the ENV : CountRecallHard instance\n",
            "Action Space :  Discrete(16)\n",
            "Obs space :  MultiDiscrete([13 13])\n",
            "Full state space : Tuple(Box(0.0, 1.0, (13,), float32), Box(0.0, 1.0, (13,), float32), MultiDiscrete([13 13])) \n",
            " \n",
            "\n",
            "Name of the ENV : PositionOnlyCartPoleHard instance\n",
            "Action Space :  Discrete(2)\n",
            "Obs space :  Box([-4.8        -0.41887903], [4.8        0.41887903], (2,), float32)\n",
            "Full state space : Box([-4.8000002e+00 -3.4028235e+38 -4.1887903e-01 -3.4028235e+38], [4.8000002e+00 3.4028235e+38 4.1887903e-01 3.4028235e+38], (4,), float32) \n",
            " \n",
            "\n",
            "Name of the ENV : PositionOnlyPendulumHard instance\n",
            "Action Space :  Box(-2.0, 2.0, (1,), float32)\n",
            "Obs space :  Box(-1.0, 1.0, (2,), float32)\n",
            "Full state space : Box([-1. -1. -8.], [1. 1. 8.], (3,), float32) \n",
            " \n",
            "\n",
            "Name of the ENV : VelocityOnlyCartPoleHard instance\n",
            "Action Space :  Discrete(2)\n",
            "Obs space :  Box(-inf, inf, (2,), float32)\n",
            "Full state space : Box([-4.8000002e+00 -3.4028235e+38 -4.1887903e-01 -3.4028235e+38], [4.8000002e+00 3.4028235e+38 4.1887903e-01 3.4028235e+38], (4,), float32) \n",
            " \n",
            "\n",
            "Name of the ENV : NoisyPositionOnlyCartPoleHard instance\n",
            "Action Space :  Discrete(2)\n",
            "Obs space :  Box([-4.8        -0.41887903], [4.8        0.41887903], (2,), float32)\n",
            "Full state space : Box([-4.8000002e+00 -3.4028235e+38 -4.1887903e-01 -3.4028235e+38], [4.8000002e+00 3.4028235e+38 4.1887903e-01 3.4028235e+38], (4,), float32) \n",
            " \n",
            "\n",
            "Name of the ENV : NoisyPositionOnlyPendulumHard instance\n",
            "Action Space :  Box(-2.0, 2.0, (1,), float32)\n",
            "Obs space :  Box(-1.0, 1.0, (2,), float32)\n",
            "Full state space : Box([-1. -1. -8.], [1. 1. 8.], (3,), float32) \n",
            " \n",
            "\n",
            "Name of the ENV : MultiarmedBanditHard instance\n",
            "Action Space :  Discrete(30)\n",
            "Obs space :  Discrete(2)\n",
            "Full state space : Box(0.0, 1.0, (30,), float32) \n",
            " \n",
            "\n",
            "Name of the ENV : HigherLowerHard instance\n",
            "Action Space :  Discrete(2)\n",
            "Obs space :  Discrete(13)\n",
            "Full state space : Box(0.0, 1.0, (13,), float32) \n",
            " \n",
            "\n",
            "Name of the ENV : BattleshipHard instance\n",
            "Action Space :  MultiDiscrete([12 12])\n",
            "Obs space :  Discrete(2)\n",
            "Full state space : Tuple(MultiDiscrete([[2 2 2 2 2 2 2 2 2 2 2 2]\n",
            " [2 2 2 2 2 2 2 2 2 2 2 2]\n",
            " [2 2 2 2 2 2 2 2 2 2 2 2]\n",
            " [2 2 2 2 2 2 2 2 2 2 2 2]\n",
            " [2 2 2 2 2 2 2 2 2 2 2 2]\n",
            " [2 2 2 2 2 2 2 2 2 2 2 2]\n",
            " [2 2 2 2 2 2 2 2 2 2 2 2]\n",
            " [2 2 2 2 2 2 2 2 2 2 2 2]\n",
            " [2 2 2 2 2 2 2 2 2 2 2 2]\n",
            " [2 2 2 2 2 2 2 2 2 2 2 2]\n",
            " [2 2 2 2 2 2 2 2 2 2 2 2]\n",
            " [2 2 2 2 2 2 2 2 2 2 2 2]]), MultiDiscrete([[2 2 2 2 2 2 2 2 2 2 2 2]\n",
            " [2 2 2 2 2 2 2 2 2 2 2 2]\n",
            " [2 2 2 2 2 2 2 2 2 2 2 2]\n",
            " [2 2 2 2 2 2 2 2 2 2 2 2]\n",
            " [2 2 2 2 2 2 2 2 2 2 2 2]\n",
            " [2 2 2 2 2 2 2 2 2 2 2 2]\n",
            " [2 2 2 2 2 2 2 2 2 2 2 2]\n",
            " [2 2 2 2 2 2 2 2 2 2 2 2]\n",
            " [2 2 2 2 2 2 2 2 2 2 2 2]\n",
            " [2 2 2 2 2 2 2 2 2 2 2 2]\n",
            " [2 2 2 2 2 2 2 2 2 2 2 2]\n",
            " [2 2 2 2 2 2 2 2 2 2 2 2]]), Discrete(2)) \n",
            " \n",
            "\n",
            "Name of the ENV : ConcentrationHard instance\n",
            "Action Space :  Discrete(52)\n",
            "Obs space :  MultiDiscrete([14 14 14 14 14 14 14 14 14 14 14 14 14 14 14 14 14 14 14 14 14 14 14 14\n",
            " 14 14 14 14 14 14 14 14 14 14 14 14 14 14 14 14 14 14 14 14 14 14 14 14\n",
            " 14 14 14 14])\n",
            "Full state space : Tuple(MultiDiscrete([13 13 13 13 13 13 13 13 13 13 13 13 13 13 13 13 13 13 13 13 13 13 13 13\n",
            " 13 13 13 13 13 13 13 13 13 13 13 13 13 13 13 13 13 13 13 13 13 13 13 13\n",
            " 13 13 13 13]), MultiBinary(52), Discrete(52), Discrete(52)) \n",
            " \n",
            "\n",
            "Name of the ENV : MineSweeperHard instance\n",
            "Action Space :  MultiDiscrete([8 8])\n",
            "Obs space :  Discrete(10)\n",
            "Full state space : MultiDiscrete([3 3 3 3 3 3 3 3 3 3 3 3 3 3 3 3 3 3 3 3 3 3 3 3 3 3 3 3 3 3 3 3 3 3 3 3 3\n",
            " 3 3 3 3 3 3 3 3 3 3 3 3 3 3 3 3 3 3 3 3 3 3 3 3 3 3 3]) \n",
            " \n",
            "\n",
            "Name of the ENV : LabyrinthExploreHard instance\n",
            "Action Space :  Discrete(4)\n",
            "Obs space :  MultiDiscrete([5 5 5 5 5 5 5 5 5 5])\n",
            "Full state space : MultiDiscrete([[5 5 5 5 5 5 5 5 5 5 5 5 5 5 5 5 5 5 5]\n",
            " [5 5 5 5 5 5 5 5 5 5 5 5 5 5 5 5 5 5 5]\n",
            " [5 5 5 5 5 5 5 5 5 5 5 5 5 5 5 5 5 5 5]\n",
            " [5 5 5 5 5 5 5 5 5 5 5 5 5 5 5 5 5 5 5]\n",
            " [5 5 5 5 5 5 5 5 5 5 5 5 5 5 5 5 5 5 5]\n",
            " [5 5 5 5 5 5 5 5 5 5 5 5 5 5 5 5 5 5 5]\n",
            " [5 5 5 5 5 5 5 5 5 5 5 5 5 5 5 5 5 5 5]\n",
            " [5 5 5 5 5 5 5 5 5 5 5 5 5 5 5 5 5 5 5]\n",
            " [5 5 5 5 5 5 5 5 5 5 5 5 5 5 5 5 5 5 5]\n",
            " [5 5 5 5 5 5 5 5 5 5 5 5 5 5 5 5 5 5 5]\n",
            " [5 5 5 5 5 5 5 5 5 5 5 5 5 5 5 5 5 5 5]\n",
            " [5 5 5 5 5 5 5 5 5 5 5 5 5 5 5 5 5 5 5]\n",
            " [5 5 5 5 5 5 5 5 5 5 5 5 5 5 5 5 5 5 5]\n",
            " [5 5 5 5 5 5 5 5 5 5 5 5 5 5 5 5 5 5 5]\n",
            " [5 5 5 5 5 5 5 5 5 5 5 5 5 5 5 5 5 5 5]\n",
            " [5 5 5 5 5 5 5 5 5 5 5 5 5 5 5 5 5 5 5]\n",
            " [5 5 5 5 5 5 5 5 5 5 5 5 5 5 5 5 5 5 5]\n",
            " [5 5 5 5 5 5 5 5 5 5 5 5 5 5 5 5 5 5 5]\n",
            " [5 5 5 5 5 5 5 5 5 5 5 5 5 5 5 5 5 5 5]]) \n",
            " \n",
            "\n",
            "Name of the ENV : LabyrinthEscapeHard instance\n",
            "Action Space :  Discrete(4)\n",
            "Obs space :  MultiDiscrete([5 5 5 5 5 5 5 5 5 5])\n",
            "Full state space : MultiDiscrete([[5 5 5 5 5 5 5 5 5 5 5 5 5 5 5 5 5 5 5]\n",
            " [5 5 5 5 5 5 5 5 5 5 5 5 5 5 5 5 5 5 5]\n",
            " [5 5 5 5 5 5 5 5 5 5 5 5 5 5 5 5 5 5 5]\n",
            " [5 5 5 5 5 5 5 5 5 5 5 5 5 5 5 5 5 5 5]\n",
            " [5 5 5 5 5 5 5 5 5 5 5 5 5 5 5 5 5 5 5]\n",
            " [5 5 5 5 5 5 5 5 5 5 5 5 5 5 5 5 5 5 5]\n",
            " [5 5 5 5 5 5 5 5 5 5 5 5 5 5 5 5 5 5 5]\n",
            " [5 5 5 5 5 5 5 5 5 5 5 5 5 5 5 5 5 5 5]\n",
            " [5 5 5 5 5 5 5 5 5 5 5 5 5 5 5 5 5 5 5]\n",
            " [5 5 5 5 5 5 5 5 5 5 5 5 5 5 5 5 5 5 5]\n",
            " [5 5 5 5 5 5 5 5 5 5 5 5 5 5 5 5 5 5 5]\n",
            " [5 5 5 5 5 5 5 5 5 5 5 5 5 5 5 5 5 5 5]\n",
            " [5 5 5 5 5 5 5 5 5 5 5 5 5 5 5 5 5 5 5]\n",
            " [5 5 5 5 5 5 5 5 5 5 5 5 5 5 5 5 5 5 5]\n",
            " [5 5 5 5 5 5 5 5 5 5 5 5 5 5 5 5 5 5 5]\n",
            " [5 5 5 5 5 5 5 5 5 5 5 5 5 5 5 5 5 5 5]\n",
            " [5 5 5 5 5 5 5 5 5 5 5 5 5 5 5 5 5 5 5]\n",
            " [5 5 5 5 5 5 5 5 5 5 5 5 5 5 5 5 5 5 5]\n",
            " [5 5 5 5 5 5 5 5 5 5 5 5 5 5 5 5 5 5 5]]) \n",
            " \n",
            "\n"
          ]
        }
      ]
    },
    {
      "cell_type": "markdown",
      "source": [
        "# Trying to render the maze environment"
      ],
      "metadata": {
        "id": "YY9FDuy-YUZd"
      }
    },
    {
      "cell_type": "code",
      "source": [
        "import pygame\n",
        "\n",
        "from popgym.envs.labyrinth_escape import LabyrinthEscape\n",
        "\n",
        "if __name__ == \"__main__\":\n",
        "    e = LabyrinthEscape(maze_dims=(12, 12), episode_length=1024)\n",
        "    obs = e.reset(seed=23)\n",
        "    e.render()\n",
        "\n",
        "    # pygame.init()\n",
        "    # while not done:\n",
        "    #     events = pygame.event.get()\n",
        "    #     action = None\n",
        "    #     for event in events:\n",
        "    #         if event.type == pygame.KEYDOWN:\n",
        "    #             if event.key == pygame.K_LEFT:\n",
        "    #                 action = 0\n",
        "    #             if event.key == pygame.K_RIGHT:\n",
        "    #                 action = 1\n",
        "    #             if event.key == pygame.K_UP:\n",
        "    #                 action = 2\n",
        "    #             if event.key == pygame.K_DOWN:\n",
        "    #                 action = 3\n",
        "    #     if action is not None:\n",
        "    #         obs, reward, done, info = e.step(action)\n",
        "    #         e.render()\n",
        "    #         print(reward)"
      ],
      "metadata": {
        "id": "MLR9-M5o1qRr",
        "colab": {
          "base_uri": "https://localhost:8080/"
        },
        "outputId": "1568e710-a186-4cb7-96b1-f874a43aa85a"
      },
      "execution_count": null,
      "outputs": [
        {
          "output_type": "stream",
          "name": "stdout",
          "text": [
            "██████🛑████████████████\n",
            "██                      ██\n",
            "██  ██████████████████  ██\n",
            "██              ██      ██\n",
            "██████████████  ██  ██████\n",
            "██  ██      ██  ██      ██\n",
            "██  ██  ██  ██  ██████  ██\n",
            "██      ██      ██  ██  ██\n",
            "██████████████████  ██  ██\n",
            "██  ██              ██  ██\n",
            "██  ██  ██████████████  ██\n",
            "██                      ██\n",
            "██████████████🚎██████████\n"
          ]
        }
      ]
    },
    {
      "cell_type": "markdown",
      "source": [
        "## Labrinth Explore\n"
      ],
      "metadata": {
        "id": "5OXSN1g_11ah"
      }
    },
    {
      "cell_type": "code",
      "source": [
        "import pygame\n",
        "\n",
        "from popgym.envs.labyrinth_explore import LabyrinthExplore\n",
        "\n",
        "if __name__ == \"__main__\":\n",
        "    e = LabyrinthExplore(maze_dims=(12, 12), episode_length=1024)\n",
        "    obs = e.reset(seed=23)\n",
        "    e.render()"
      ],
      "metadata": {
        "colab": {
          "base_uri": "https://localhost:8080/"
        },
        "id": "Pzz_ZVlQtxm_",
        "outputId": "73a611da-90bf-401d-8c15-47a7b4e5ae61"
      },
      "execution_count": null,
      "outputs": [
        {
          "output_type": "stream",
          "name": "stdout",
          "text": [
            "██████████████████████████\n",
            "██                      ██\n",
            "██  ██████████████████  ██\n",
            "██              ██      ██\n",
            "██████████████  ██  ██████\n",
            "██  ██      ██  ██      ██\n",
            "██  ██  ██  ██  ██████  ██\n",
            "██      ██      ██  ██  ██\n",
            "██████████████████  ██  ██\n",
            "██  ██              ██  ██\n",
            "██  ██  ██████████████  ██\n",
            "██                      ██\n",
            "██████████████🚎██████████\n"
          ]
        }
      ]
    },
    {
      "cell_type": "code",
      "source": [
        "if __name__ == \"__main__\":\n",
        "    e = LabyrinthEscape(maze_dims=(10,10), episode_length=1024)\n",
        "\n",
        "    obs = e.reset()\n",
        "    e.render()\n",
        "    print(\"\\n\")\n",
        "    obs=e.reset()\n",
        "    e.render()\n",
        "    print(\"\\n\")\n"
      ],
      "metadata": {
        "colab": {
          "base_uri": "https://localhost:8080/"
        },
        "id": "dEhf_pVT3EQm",
        "outputId": "0f26713e-2e2f-4ea2-ff90-4afd991cdf43"
      },
      "execution_count": null,
      "outputs": [
        {
          "output_type": "stream",
          "name": "stdout",
          "text": [
            "██████████████🛑████\n",
            "██                  ██\n",
            "██████████████  ██  ██\n",
            "██      ██  ██  ██  ██\n",
            "██  ██  ██  ██  ██  ██\n",
            "██  ██      ██  ██  ██\n",
            "██  ██████  ██████  ██\n",
            "██      ██          ██\n",
            "██████████████████  ██\n",
            "██                  ██\n",
            "██████████████████🚎██\n",
            "\n",
            "\n",
            "██████████████████████\n",
            "██      ██          ██\n",
            "██  ██  ██████████  ██\n",
            "🛑██      ██      ██\n",
            "██  ██████  ██  ██  ██\n",
            "██      ██  ██  ██  🚎\n",
            "██████  ██  ██  ██  ██\n",
            "██      ██      ██  ██\n",
            "██  ██████████████  ██\n",
            "██              ██  ██\n",
            "██████████████████████\n",
            "\n",
            "\n"
          ]
        }
      ]
    },
    {
      "cell_type": "code",
      "source": [
        "from popgym import envs"
      ],
      "metadata": {
        "id": "Ln1VRERjB8sF"
      },
      "execution_count": null,
      "outputs": []
    },
    {
      "cell_type": "code",
      "source": [
        "if __name__ == \"__main__\":\n",
        "    e = LabyrinthExplore(maze_dims=(12, 12), episode_length=1024)\n",
        "\n",
        "    obs = e.reset()\n",
        "    e.render()\n",
        "    print(\"\\n\")\n",
        "    obs=e.reset()\n",
        "    e.render()\n",
        "    print(\"\\n\")\n"
      ],
      "metadata": {
        "colab": {
          "base_uri": "https://localhost:8080/"
        },
        "id": "JIfDRewF2kYO",
        "outputId": "8099ab4d-86ac-431f-a5d4-8302c83a937e"
      },
      "execution_count": null,
      "outputs": [
        {
          "output_type": "stream",
          "name": "stdout",
          "text": [
            "██🚎██████████████████████\n",
            "██      ██      ██      ██\n",
            "██  ██  ██████  ██████  ██\n",
            "██  ██      ██      ██  ██\n",
            "██  ██████  ██  ██  ██  ██\n",
            "██  ██      ██  ██      ██\n",
            "██████  ██████  ██████  ██\n",
            "██              ██      ██\n",
            "██████████  ██████  ██████\n",
            "██      ██      ██  ██  ██\n",
            "██  ██████  ██  ██  ██  ██\n",
            "██          ██  ██      ██\n",
            "██████████████████████████\n",
            "\n",
            "\n",
            "██████████🚎██████████████\n",
            "██                      ██\n",
            "██████  ██  ██████████████\n",
            "██      ██      ██      ██\n",
            "██  ██████████  ██  ██  ██\n",
            "██  ██      ██      ██  ██\n",
            "██  ██████  ██████████  ██\n",
            "██      ██  ██      ██  ██\n",
            "██████████  ██  ██  ██  ██\n",
            "██          ██  ██  ██  ██\n",
            "██  ██████████  ██  ██  ██\n",
            "██              ██      ██\n",
            "██████████████████████████\n",
            "\n",
            "\n"
          ]
        }
      ]
    },
    {
      "cell_type": "code",
      "source": [
        "import pygame\n",
        "import numpy as np\n",
        "import matplotlib.pyplot as plt\n",
        "from popgym.envs.labyrinth_escape import LabyrinthEscapeEasy\n",
        "import gymnasium as gym\n",
        "import popgym  # noqa: F401\n",
        "\n",
        "\n",
        "if __name__ == \"__main__\":\n",
        "    e = gym.make(\"popgym-LabyrinthEscapeEasy-v0\")\n",
        "    obs = e.reset(seed=23)\n",
        "    img = e.render()\n",
        "    env.close()\n"
      ],
      "metadata": {
        "id": "bcFFFv_82V2l",
        "colab": {
          "base_uri": "https://localhost:8080/"
        },
        "outputId": "3649cc31-1e90-4fa5-8ce9-df16fa8c1a03"
      },
      "execution_count": null,
      "outputs": [
        {
          "output_type": "stream",
          "name": "stdout",
          "text": [
            "██████🚎██████████████\n",
            "██                  ██\n",
            "██  ██████████████  ██\n",
            "██              ██  ██\n",
            "██████████████  ██  ██\n",
            "██  ██      ██  ██  ██\n",
            "██  ██  ██  ██  ██  ██\n",
            "██      ██      ██  ██\n",
            "██████████████████  ██\n",
            "██                  ██\n",
            "██████████🛑████████\n"
          ]
        }
      ]
    },
    {
      "cell_type": "code",
      "source": [
        "import pygame\n",
        "import numpy as np\n",
        "import matplotlib.pyplot as plt\n",
        "from popgym.envs.labyrinth_escape import LabyrinthEscapeEasy\n",
        "import gymnasium as gym\n",
        "import popgym  # noqa: F401\n",
        "\n",
        "\n",
        "if __name__ == \"__main__\":\n",
        "    e = gym.make(\"popgym-LabyrinthEscapeMedium-v0\")\n",
        "    obs = e.reset(seed=23)\n",
        "    img = e.render()\n",
        "    env.close()\n"
      ],
      "metadata": {
        "colab": {
          "base_uri": "https://localhost:8080/"
        },
        "id": "qC5qKE7BAqaB",
        "outputId": "cda77c16-a6b8-4e64-aed4-8b35cf5d2fac"
      },
      "execution_count": null,
      "outputs": [
        {
          "output_type": "stream",
          "name": "stdout",
          "text": [
            "██████████████████████🛑████\n",
            "██      ██          ██      ██\n",
            "██  ██████  ██████  ██  ██  ██\n",
            "██      ██  ██      ██  ██  ██\n",
            "██████  ██  ██  ██████████  ██\n",
            "██  ██      ██      ██      ██\n",
            "██  ██  ██████████  ██  ██████\n",
            "██      ██          ██      ██\n",
            "██  ██████████████  ██████  ██\n",
            "██              ██  ██      ██\n",
            "██████████████  ██████  ██████\n",
            "██              ██          ██\n",
            "██  ██  ██████████  ██████  ██\n",
            "██  ██              ██      ██\n",
            "██🚎██████████████████████████\n"
          ]
        }
      ]
    },
    {
      "cell_type": "code",
      "source": [
        "import pygame\n",
        "import numpy as np\n",
        "import matplotlib.pyplot as plt\n",
        "from popgym.envs.labyrinth_escape import LabyrinthEscapeEasy\n",
        "import gymnasium as gym\n",
        "import popgym  # noqa: F401\n",
        "\n",
        "\n",
        "if __name__ == \"__main__\":\n",
        "    e = gym.make(\"popgym-LabyrinthEscapeHard-v0\")\n",
        "    obs = e.reset(seed=23)\n",
        "    img = e.render()\n",
        "    env.close()\n"
      ],
      "metadata": {
        "colab": {
          "base_uri": "https://localhost:8080/"
        },
        "id": "JGrPUbCwH8QJ",
        "outputId": "183fdd06-3e27-4ecb-f463-ca0803c66bf1"
      },
      "execution_count": null,
      "outputs": [
        {
          "output_type": "stream",
          "name": "stdout",
          "text": [
            "██████████████████████████████████████\n",
            "██          ██          ██          ██\n",
            "██████  ██████  ██  ██  ██  ██████  ██\n",
            "██      ██      ██  ██      ██      ██\n",
            "██  ██████  ██████  ██████  ██████  ██\n",
            "🛑        ██      ██  ██      ██  ██\n",
            "██████████████████  ██  ██████  ██  ██\n",
            "██                  ██      ██  ██  🚎\n",
            "██  ██████████████████  ██████  ██  ██\n",
            "██  ██  ██      ██  ██      ██  ██  ██\n",
            "██  ██  ██  ██  ██  ██████  ██  ██  ██\n",
            "██      ██  ██      ██      ██  ██  ██\n",
            "██  ██████  ██████  ██  ██  ██  ██████\n",
            "██      ██  ██  ██  ██  ██          ██\n",
            "██████  ██  ██  ██  ██████  ██████  ██\n",
            "██      ██      ██      ██  ██      ██\n",
            "██  ██████████████████  ██  ██  ██████\n",
            "██                      ██  ██      ██\n",
            "██████████████████████████████████████\n"
          ]
        }
      ]
    },
    {
      "cell_type": "code",
      "source": [
        "\n",
        "if __name__ == \"__main__\":\n",
        "    e = gym.make(\"popgym-LabyrinthExploreHard-v0\")\n",
        "    obs = e.reset(seed=23)\n",
        "    img = e.render()\n",
        "    env.close()\n"
      ],
      "metadata": {
        "colab": {
          "base_uri": "https://localhost:8080/"
        },
        "id": "VM0xu5K4IDuG",
        "outputId": "b0581900-05ee-4798-8b6e-d6f4b11bd7b5"
      },
      "execution_count": null,
      "outputs": [
        {
          "output_type": "stream",
          "name": "stdout",
          "text": [
            "██████████████████████████████████████\n",
            "██          ██          ██          ██\n",
            "██████  ██████  ██  ██  ██  ██████  ██\n",
            "██      ██      ██  ██      ██      ██\n",
            "██  ██████  ██████  ██████  ██████  ██\n",
            "██          ██      ██  ██      ██  ██\n",
            "██████████████████  ██  ██████  ██  ██\n",
            "██                  ██      ██  ██  🚎\n",
            "██  ██████████████████  ██████  ██  ██\n",
            "██  ██  ██      ██  ██      ██  ██  ██\n",
            "██  ██  ██  ██  ██  ██████  ██  ██  ██\n",
            "██      ██  ██      ██      ██  ██  ██\n",
            "██  ██████  ██████  ██  ██  ██  ██████\n",
            "██      ██  ██  ██  ██  ██          ██\n",
            "██████  ██  ██  ██  ██████  ██████  ██\n",
            "██      ██      ██      ██  ██      ██\n",
            "██  ██████████████████  ██  ██  ██████\n",
            "██                      ██  ██      ██\n",
            "██████████████████████████████████████\n"
          ]
        }
      ]
    },
    {
      "cell_type": "code",
      "source": [
        "import gymnasium as gym\n",
        "import popgym  # noqa: F401\n",
        "from popgym.envs.labyrinth_escape import LabyrinthEscapeHard\n",
        "# Create the environment\n",
        "env = gym.make('popgym-LabyrinthEscapeHard-v0')\n",
        "\n",
        "# Get the size of the state space\n",
        "state_space_size = env.observation_space.shape[0] # Assuming it's a Box space\n",
        "print(\"State Space Size:\", state_space_size)"
      ],
      "metadata": {
        "colab": {
          "base_uri": "https://localhost:8080/"
        },
        "id": "VdTzmCbjIc8Y",
        "outputId": "8d331d69-fed0-432d-9f4b-59c595d8c57f"
      },
      "execution_count": null,
      "outputs": [
        {
          "output_type": "stream",
          "name": "stdout",
          "text": [
            "State Space Size: 10\n"
          ]
        }
      ]
    },
    {
      "cell_type": "code",
      "source": [
        "env.observation_space"
      ],
      "metadata": {
        "colab": {
          "base_uri": "https://localhost:8080/"
        },
        "id": "6BnzwrYg9Xg7",
        "outputId": "0ca663bc-2148-4cf7-9542-d97487d09291"
      },
      "execution_count": null,
      "outputs": [
        {
          "output_type": "execute_result",
          "data": {
            "text/plain": [
              "MultiDiscrete([5 5 5 5 5 5 5 5 5 5])"
            ]
          },
          "metadata": {},
          "execution_count": 21
        }
      ]
    },
    {
      "cell_type": "markdown",
      "source": [
        "n Gym, a multi-discrete action space refers to an action space where there are multiple discrete dimensions, each with its own set of discrete actions. This is in contrast to a standard discrete action space where there is a single discrete action that the agent can choose from.\n",
        "\n",
        "For example, consider a robotic arm with three joints. Each joint can be moved independently, and the action space for controlling the robotic arm might look like this:\n",
        "\n",
        "python\n",
        "Copy code\n",
        "import gym\n",
        "\n",
        "# Create a multi-discrete action space environment\n",
        "env = gym.make('YourMultiDiscreteEnvironmentHere')\n",
        "\n",
        "# Get the action space\n",
        "action_space = env.action_space\n",
        "\n",
        "# Print the action space\n",
        "print(\"Action Space:\", action_space)\n",
        "In this case, the action_space might be a MultiDiscrete space with three dimensions, each representing the possible actions for the corresponding joint.\n",
        "\n",
        "python\n",
        "Copy code\n",
        "MultiDiscrete([num_actions_joint_1, num_actions_joint_2, num_actions_joint_3])\n",
        "Here, num_actions_joint_1, num_actions_joint_2, and num_actions_joint_3 represent the number of discrete actions available for each joint.\n",
        "\n",
        "For example, if num_actions_joint_1 = 3, num_actions_joint_2 = 5, and num_actions_joint_3 = 2, the agent can choose from 3 actions for the first joint, 5 actions for the second joint, and 2 actions for the third joint in each step.\n",
        "\n",
        "Agents interacting with environments with multi-discrete action spaces need to provide a list of integers as actions, one for each dimension of the multi-discrete space. Each integer corresponds to the index of the action to be taken in the corresponding dimension.\n",
        "\n",
        "Keep in mind that the specifics of multi-discrete action spaces can vary depending on the environment, so it's important to refer to the documentation of the specific Gym environment you are working with for detailed information.\n",
        "\n",
        "\n",
        "\n",
        "\n",
        "User\n",
        "what is multi discrete  observation state space in gymnasium RL\n",
        "ChatGPT\n",
        "In Gym, a multi-discrete observation space refers to an observation space where there are multiple discrete dimensions, each representing a different aspect of the environment's state. This is in contrast to a standard discrete or continuous observation space where there is a single dimension or set of dimensions describing the state.\n",
        "\n",
        "Here's an example of how you might work with a multi-discrete observation space in Gym:\n",
        "\n",
        "python\n",
        "Copy code\n",
        "import gym\n",
        "\n",
        "# Create a multi-discrete observation space environment\n",
        "env = gym.make('YourMultiDiscreteEnvironmentHere')\n",
        "\n",
        "# Get the observation space\n",
        "observation_space = env.observation_space\n",
        "\n",
        "# Print the observation space\n",
        "print(\"Observation Space:\", observation_space)\n",
        "In this case, the observation_space might be a MultiDiscrete space with several dimensions, each representing a different aspect of the environment's state. The MultiDiscrete space is defined by a list of integers, where each integer represents the number of possible values for that dimension.\n",
        "\n",
        "python\n",
        "Copy code\n",
        "MultiDiscrete([num_values_dim_1, num_values_dim_2, ..., num_values_dim_n])\n",
        "Here, num_values_dim_1, num_values_dim_2, etc., represent the number of possible values for each dimension of the observation space.\n",
        "\n",
        "Agents interacting with environments with multi-discrete observation spaces will receive an observation, which is a list of integers, where each integer corresponds to the value in the corresponding dimension of the multi-discrete space.\n",
        "\n",
        "As with action spaces, it's important to refer to the documentation of the specific Gym environment you are working with to understand the structure and meaning of the different dimensions in the multi-discrete observation space. The specifics can vary depending on the environment."
      ],
      "metadata": {
        "id": "lPeFO1x0_3O9"
      }
    },
    {
      "cell_type": "markdown",
      "source": [
        "# Modifying small environment to become same size as largest env"
      ],
      "metadata": {
        "id": "m6FRXMyR2w4q"
      }
    },
    {
      "cell_type": "code",
      "source": [
        "import pygame\n",
        "\n",
        "from popgym.envs.labyrinth_escape import LabyrinthEscape\n",
        "\n",
        "if __name__ == \"__main__\":\n",
        "    e = LabyrinthEscape(maze_dims=(10, 10), episode_length=1024)\n",
        "    obs = e.reset(seed=23)\n",
        "    #e.render()\n"
      ],
      "metadata": {
        "id": "_kt406oK-PED"
      },
      "execution_count": null,
      "outputs": []
    },
    {
      "cell_type": "code",
      "source": [
        "import gymnasium as gym\n",
        "from gymnasium.wrappers import PixelObservationWrapper,ResizeObservation,TransformObservation\n",
        "x=gym.Wrapper(e)\n",
        "print(x)\n",
        "print(x.action_space)\n",
        "print(x.observation_space, x.reward_range, x.metadata )\n"
      ],
      "metadata": {
        "colab": {
          "base_uri": "https://localhost:8080/"
        },
        "id": "x6JpymVW21N8",
        "outputId": "c494cc8e-59af-46f6-e9df-9e56183fbd95"
      },
      "execution_count": null,
      "outputs": [
        {
          "output_type": "stream",
          "name": "stdout",
          "text": [
            "<Wrapper<LabyrinthEscape instance>>\n",
            "Discrete(4)\n",
            "MultiDiscrete([5 5 5 5 5 5 5 5 5 5]) (-inf, inf) {'render_modes': []}\n"
          ]
        }
      ]
    },
    {
      "cell_type": "code",
      "source": [
        "\n",
        "# Replace \"popgym-LabyrinthEscapeEasy-v0\" with the actual environment name\n",
        "env = gym.make(\"popgym-LabyrinthEscapeEasy-v0\")\n",
        "\n",
        "# Get the state space\n",
        "state_space = env.observation_space\n",
        "\n",
        "# Assuming it's a MultiDiscrete space\n",
        "assert isinstance(state_space, gym.spaces.MultiDiscrete)\n",
        "\n",
        "# Get the number of discrete values for each dimension\n",
        "num_values_per_dimension = state_space.nvec\n",
        "print(num_values_per_dimension)\n",
        "\n",
        "\n",
        "# Remember to close the environment when done\n",
        "env.close()\n",
        "\n"
      ],
      "metadata": {
        "colab": {
          "base_uri": "https://localhost:8080/"
        },
        "id": "c7gV60eQlxv_",
        "outputId": "a431595d-587c-42ef-b8b3-5ca49661b2b6"
      },
      "execution_count": null,
      "outputs": [
        {
          "output_type": "stream",
          "name": "stdout",
          "text": [
            "[5 5 5 5 5 5 5 5 5 5]\n"
          ]
        }
      ]
    },
    {
      "cell_type": "code",
      "source": [
        "from gymnasium.spaces import MultiDiscrete\n",
        "import popgym\n",
        "from popgym.envs.labyrinth_escape import LabyrinthEscapeEasy\n",
        "\n",
        "e_small = LabyrinthEscapeEasy()\n",
        "obs = e_small.reset(seed=24)\n",
        "\n",
        "print(type(e_small.state_space))\n",
        "# e_small.state_space=MultiDiscrete(np.array([[5, 5 ,5 ,5, 5, 5, 5, 5, 5, 5, 5, 5, 5, 5, 5, 5, 5, 5, 5],\n",
        "#  [5, 5 ,5 ,5, 5, 5, 5, 5, 5, 5, 5, 5, 5, 5, 5, 5, 5, 5, 5],\n",
        "#  [5, 5 ,5 ,5, 5, 5, 5, 5, 5, 5, 5, 5, 5, 5, 5, 5, 5, 5, 5],\n",
        "#  [5, 5 ,5 ,5, 5, 5, 5, 5, 5, 5, 5, 5, 5, 5, 5, 5, 5, 5, 5],\n",
        "#  [5, 5 ,5 ,5, 5, 5, 5, 5, 5, 5, 5, 5, 5, 5, 5, 5, 5, 5, 5],\n",
        "#  [5, 5 ,5 ,5, 5, 5, 5, 5, 5, 5, 5, 5, 5, 5, 5, 5, 5, 5, 5],\n",
        "#  [5, 5 ,5 ,5, 5, 5, 5, 5, 5, 5, 5, 5, 5, 5, 5, 5, 5, 5, 5],\n",
        "#  [5, 5 ,5 ,5, 5, 5, 5, 5, 5, 5, 5, 5, 5, 5, 5, 5, 5, 5, 5],\n",
        "#  [5, 5 ,5 ,5, 5, 5, 5, 5, 5, 5, 5, 5, 5, 5, 5, 5, 5, 5, 5],\n",
        "#  [5, 5 ,5 ,5, 5, 5, 5, 5, 5, 5, 5, 5, 5, 5, 5, 5, 5, 5, 5],\n",
        "#  [5, 5 ,5 ,5, 5, 5, 5, 5, 5, 5, 5, 5, 5, 5, 5, 5, 5, 5, 5],\n",
        "#  [5, 5 ,5 ,5, 5, 5, 5, 5, 5, 5, 5, 5, 5, 5, 5, 5, 5, 5, 5],\n",
        "#  [5, 5 ,5 ,5, 5, 5, 5, 5, 5, 5, 5, 5, 5, 5, 5, 5, 5, 5, 5],\n",
        "#  [5, 5 ,5 ,5, 5, 5, 5, 5, 5, 5, 5, 5, 5, 5, 5, 5, 5, 5, 5],\n",
        "#  [5, 5 ,5 ,5, 5, 5, 5, 5, 5, 5, 5, 5, 5, 5, 5, 5, 5, 5, 5],\n",
        "#  [5, 5 ,5 ,5, 5, 5, 5, 5, 5, 5, 5, 5, 5, 5, 5, 5, 5, 5, 5],\n",
        "#  [5, 5 ,5 ,5, 5, 5, 5, 5, 5, 5, 5, 5, 5, 5, 5, 5, 5, 5, 5],\n",
        "#  [5, 5 ,5 ,5, 5, 5, 5, 5, 5, 5, 5, 5, 5, 5, 5, 5, 5, 5, 5],\n",
        "#  [5, 5 ,5 ,5, 5, 5, 5, 5, 5, 5, 5, 5, 5, 5, 5, 5, 5, 5, 5]]))\n",
        "print(e_small.state_space.shape)\n",
        "print(e_small.state_space.sample())\n",
        "e_small.render()"
      ],
      "metadata": {
        "id": "N_e9FE6Ptqpm",
        "colab": {
          "base_uri": "https://localhost:8080/"
        },
        "outputId": "8e1dffed-b7ed-417e-f250-917ed21167ac"
      },
      "execution_count": null,
      "outputs": [
        {
          "output_type": "stream",
          "name": "stdout",
          "text": [
            "<class 'gymnasium.spaces.multi_discrete.MultiDiscrete'>\n",
            "(11, 11)\n",
            "[[0 3 4 2 1 3 4 4 3 1 0]\n",
            " [4 0 4 1 4 0 2 0 4 1 1]\n",
            " [1 0 4 3 2 2 4 4 3 1 4]\n",
            " [1 4 2 4 1 3 2 0 0 2 3]\n",
            " [2 2 0 4 1 2 3 3 4 0 0]\n",
            " [2 3 3 3 1 0 4 3 3 4 0]\n",
            " [1 1 0 3 3 4 3 0 0 4 0]\n",
            " [1 2 2 2 3 0 3 1 0 0 2]\n",
            " [3 0 3 4 4 4 1 3 4 4 4]\n",
            " [0 2 0 2 4 3 0 4 2 3 0]\n",
            " [4 0 3 1 1 3 4 2 4 2 3]]\n",
            "██████████████████████\n",
            "██                  ██\n",
            "██████  ██  ██████  ██\n",
            "🚎      ██  ██      ██\n",
            "██  ██████  ██  ██████\n",
            "██      ██  ██      🛑\n",
            "██████  ██  ██████  ██\n",
            "██      ██      ██  ██\n",
            "██  ██████████████████\n",
            "██                  ██\n",
            "██████████████████████\n"
          ]
        }
      ]
    },
    {
      "cell_type": "code",
      "source": [
        "import popgym\n",
        "from popgym.envs.labyrinth_escape import LabyrinthEscapeHard\n",
        "\n",
        "e_large = LabyrinthEscapeHard()\n",
        "obs = e_large.reset(seed=23)\n",
        "\n",
        "print(type(e_large.state_space))\n",
        "print(e_large.state_space.shape)\n",
        "print(e_large.state_space.sample())\n",
        "e.render()"
      ],
      "metadata": {
        "colab": {
          "base_uri": "https://localhost:8080/"
        },
        "id": "HRoQ0gLensCg",
        "outputId": "12321906-d749-4d47-f295-a54efcb0ee67"
      },
      "execution_count": null,
      "outputs": [
        {
          "output_type": "stream",
          "name": "stdout",
          "text": [
            "<class 'gymnasium.spaces.multi_discrete.MultiDiscrete'>\n",
            "(19, 19)\n",
            "[[3 3 4 4 0 2 4 1 2 1 1 1 2 4 2 2 1 0 0]\n",
            " [0 2 4 1 2 1 4 2 4 2 2 1 0 3 0 2 2 1 2]\n",
            " [2 0 0 2 0 1 2 0 1 4 2 0 2 1 0 3 4 2 1]\n",
            " [4 0 4 4 3 0 2 4 3 3 4 1 1 3 3 3 1 2 0]\n",
            " [1 4 2 0 2 2 0 0 0 3 0 3 2 2 2 4 4 3 1]\n",
            " [2 1 2 0 4 1 3 0 0 4 2 4 0 1 4 0 1 3 2]\n",
            " [3 2 1 2 0 4 2 2 3 4 0 3 2 4 3 4 1 0 0]\n",
            " [4 2 1 3 0 4 4 1 4 3 1 2 2 4 0 2 4 4 4]\n",
            " [4 4 3 0 4 2 0 0 3 1 3 3 0 2 2 2 3 4 0]\n",
            " [3 1 0 2 3 1 1 1 1 2 4 1 2 2 0 0 2 2 2]\n",
            " [4 0 3 4 0 4 1 4 2 1 1 2 2 4 0 4 0 3 4]\n",
            " [2 3 1 4 0 4 0 3 1 4 0 2 0 0 3 3 1 4 2]\n",
            " [4 2 2 3 2 3 0 0 0 1 2 4 4 0 3 2 0 2 1]\n",
            " [4 0 3 3 3 1 4 0 4 0 0 3 0 0 4 4 2 2 0]\n",
            " [1 0 1 3 3 1 4 3 2 1 2 2 0 1 0 4 4 4 0]\n",
            " [0 1 3 1 4 3 2 3 3 4 0 0 0 4 2 3 2 0 2]\n",
            " [4 2 3 1 1 2 1 4 0 4 4 3 2 3 1 2 3 2 0]\n",
            " [1 1 4 0 4 1 3 2 4 4 2 4 4 0 4 1 4 4 1]\n",
            " [4 1 3 1 0 0 2 4 0 2 0 0 4 0 2 0 2 1 1]]\n",
            "██████████████████████████████████████\n",
            "██          ██          ██          ██\n",
            "██████  ██████  ██  ██  ██  ██████  ██\n",
            "██      ██      ██  ██      ██      ██\n",
            "██  ██████  ██████  ██████  ██████  ██\n",
            "🛑        ██      ██  ██      ██  ██\n",
            "██████████████████  ██  ██████  ██  ██\n",
            "██                  ██      ██  ██  🚎\n",
            "██  ██████████████████  ██████  ██  ██\n",
            "██  ██  ██      ██  ██      ██  ██  ██\n",
            "██  ██  ██  ██  ██  ██████  ██  ██  ██\n",
            "██      ██  ██      ██      ██  ██  ██\n",
            "██  ██████  ██████  ██  ██  ██  ██████\n",
            "██      ██  ██  ██  ██  ██          ██\n",
            "██████  ██  ██  ██  ██████  ██████  ██\n",
            "██      ██      ██      ██  ██      ██\n",
            "██  ██████████████████  ██  ██  ██████\n",
            "██                      ██  ██      ██\n",
            "██████████████████████████████████████\n"
          ]
        }
      ]
    },
    {
      "cell_type": "code",
      "source": [],
      "metadata": {
        "id": "LLV-ofH46b4W",
        "colab": {
          "base_uri": "https://localhost:8080/"
        },
        "outputId": "add275ba-c2dd-415d-b0bd-77e049c13d9f"
      },
      "execution_count": null,
      "outputs": [
        {
          "output_type": "execute_result",
          "data": {
            "text/plain": [
              "array([[0, 1],\n",
              "       [1, 0]])"
            ]
          },
          "metadata": {},
          "execution_count": 62
        }
      ]
    },
    {
      "cell_type": "code",
      "source": [],
      "metadata": {
        "id": "F-LuDuno80fM"
      },
      "execution_count": null,
      "outputs": []
    }
  ]
}